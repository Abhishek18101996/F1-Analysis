{
 "cells": [
  {
   "cell_type": "markdown",
   "metadata": {},
   "source": [
    "# Homework solution\n",
    "\n",
    " Determine the probability that the sum of a three-dice roll is prime:\n",
    " \n",
    "<center>\n",
    "<img src=\"ipynb.images/3-dice-roll.png\" width=\"200\" />\n",
    "</center>"
   ]
  },
  {
   "cell_type": "code",
   "execution_count": 1,
   "metadata": {},
   "outputs": [],
   "source": [
    "from fractions import Fraction\n",
    "def p(event, space): \n",
    "    \"\"\"The probability of an event, given a sample space of equiprobable outcomes.\n",
    "    event can be either a set of outcomes, or a predicate (true for outcomes in the event).\"\"\"\n",
    "    if is_predicate(event):\n",
    "        event = such_that(event, space)\n",
    "    return Fraction(len(event & space), len(space))\n",
    "\n",
    "is_predicate = callable\n",
    "\n",
    "def such_that(predicate, collection): \n",
    "    \"\"\"The subset of elements in the collection for which the predicate is true.\"\"\"\n",
    "    return {e for e in collection if predicate(e)}"
   ]
  },
  {
   "cell_type": "code",
   "execution_count": 2,
   "metadata": {},
   "outputs": [],
   "source": [
    "D = {1,2,3,4,5,6}"
   ]
  },
  {
   "cell_type": "code",
   "execution_count": 3,
   "metadata": {},
   "outputs": [],
   "source": [
    "D3 = {(d1, d2, d3) for d1 in D for d2 in D for d3 in D}"
   ]
  },
  {
   "cell_type": "code",
   "execution_count": 4,
   "metadata": {},
   "outputs": [],
   "source": [
    "def prime_sum(outcome): return is_prime(sum(outcome))"
   ]
  },
  {
   "cell_type": "code",
   "execution_count": 5,
   "metadata": {},
   "outputs": [
    {
     "data": {
      "text/plain": [
       "<function __main__.prime_sum(outcome)>"
      ]
     },
     "execution_count": 5,
     "metadata": {},
     "output_type": "execute_result"
    }
   ],
   "source": [
    "prime_sum"
   ]
  },
  {
   "cell_type": "markdown",
   "metadata": {},
   "source": [
    "Dua Lipa prime code:"
   ]
  },
  {
   "cell_type": "code",
   "execution_count": 6,
   "metadata": {},
   "outputs": [],
   "source": [
    "#def is_prime(n): return True if n in [x for x in range(3,36) if all(x%y!=0 for y in range(2,n//2))] else False\n",
    "def is_prime(n): return n > 1 and not any(n%i == 0 for i in range(2,n))"
   ]
  },
  {
   "cell_type": "code",
   "execution_count": 7,
   "metadata": {},
   "outputs": [
    {
     "data": {
      "text/plain": [
       "Fraction(73, 216)"
      ]
     },
     "execution_count": 7,
     "metadata": {},
     "output_type": "execute_result"
    }
   ],
   "source": [
    "p(prime_sum, D3)"
   ]
  },
  {
   "cell_type": "markdown",
   "metadata": {
    "button": false,
    "new_sheet": false,
    "run_control": {
     "read_only": false
    }
   },
   "source": [
    "# Introduction to Probability Distributions\n",
    "\n",
    "Your textbook, in page 6, states that the foundations of Machine Learning are:\n",
    "\n",
    "<center>\n",
    "<img src=\"ipynb.images/foundations-of-ML.png\" width=\"500\" />\n",
    "</center>\n",
    "\n",
    "And so let's start with a lab that introduces a very important probability distribution: The **binomial**.\n",
    "\n",
    "<br />\n",
    "<center>\n",
    "<img src=\"http://statistics.wdfiles.com/local--files/ch6/binomial.png\" width=\"400\" />\n",
    "Binomial\n",
    "</center>\n",
    "\n",
    ">**Definition**: The binomial distribution with parameters $n$ and $p$ is the discrete probability distribution of the number of successes in a sequence of $n$ *independent* experiments, each asking a yes–no question, and each with its own boolean-valued outcome: success/yes/true/one (with probability $p$) or failure/no/false/zero (with probability $q = 1 − p$).\n",
    "\n",
    "> If the random variable X follows the binomial distribution with parameters n ∈ ℕ and p ∈ [0,1], we write X ~ B(n, p). The probability of getting exactly k successes in n independent Bernoulli trials is given by the **probability mass function**: $$f(k) = {n \\choose k} p^{k} (1-p)^{n-k}$$\n",
    "\n",
    ">where $\\binom {n}{k}$ is our famous ***choose*** function from previous lecture: $${n \\choose k} = \\frac{n!}{k!(n-k)!}$$\n",
    "\n",
    ">The formula can be understood as follows: $k$ successes occur with probability $p^k$ and $n − k$ failures occur with probability $(1 − p)^{n − k}$. However, the $k$ successes can occur *anywhere* among the $n$ trials, and there are $\\binom {n}{k}$ different ways of distributing $k$ successes in a sequence of $n$ trials, just like there are $\\binom {23}{6}$ different ways of selecting 6 balls from an urn of 23.\n",
    "\n",
    ">**Example**: Suppose a **biased** coin comes up heads with probability 0.3 when tossed. The probability of seeing exactly 4 heads in 6 tosses is:\n",
    "\n",
    ">$$f(4, 6, 0.3) = {6 \\choose 4} 0.3^{4} (1 - 0.3)^{6 - 4} = 0.06$$\n",
    "\n",
    "A single success/failure experiment is also called a **Bernoulli** trial or Bernoulli experiment and a sequence of outcomes is called a Bernoulli process; for a single trial, i.e., $n = 1$, the binomial distribution is a Bernoulli distribution.\n",
    "\n",
    "*Why* is all this so important?\n",
    "\n",
    "So far, we have made the assumption that every outcome in a sample space (such as our urn) is ***equally likely***: Same probability to select White ball \\#1 as Red ball \\#5. Right? But what if we take a different perspective and compare the probability of selecting one red ball versus that of selecting one white one?\n",
    "\n",
    ">**Recall**: A probability is a **fraction** where the numerator is sum of all *favorable* outcomes, and the denominator the sum of all *possible* outcomes.\n",
    "\n",
    "In real life, we often get outcomes that are *not* **equiprobable**. For example, White ball versus Red ball in our previous experiment. For example, the probability that your professor marries Dua Lipa is not as probable as the probability that some famous rock start marries Dua Lipa, right? And we can't really count how many chances Dino has of marrying Dua Lipa versus how many chances the other rock star has by putting \"*Dino balls*\" and \"*rock star balls*\" in an urn, because sometimes we cannot decompose outcomes that quantitatively.\n",
    "\n",
    "For another example, the probability of a child being a girl is not exactly 1/2, and the probability is slightly different for a second child. \n",
    "\n",
    "An [article](http://people.kzoo.edu/barth/math105/moreboys.pdf) (good Data Science article, please read it) gives the following *counts* for two-child families in Denmark, where `GB` means a family where the first child is a girl and the second a boy:\n",
    "\n",
    "    GG: 121801    GB: 126840\n",
    "    BG: 127123    BB: 135138\n",
    "    \n",
    "Because of this fact (not all urns yield Blue/Red/White *numbered* balls with equiprobable chances), we need to introduce three more definitions:\n",
    "\n",
    "* [Frequency](https://en.wikipedia.org/wiki/Frequency_%28statistics%29): a number describing how often an outcome occurs. Can be a count like 121801, or a ratio like 0.515.\n",
    "\n",
    "* [Distribution](http://mathworld.wolfram.com/StatisticalDistribution.html): A mapping from outcome to frequency for each possible outcome in a sample space. \n",
    "\n",
    "* [Probability Distribution](https://en.wikipedia.org/wiki/Probability_distribution): The distribution above, which has been *normalized* so that the sum of the frequencies is 1.\n",
    "\n",
    "Here is an example of a ***super-popular*** probability distribution:\n",
    "* The binomial distribution is frequently used to model the number of successes in a sample of size n drawn with replacement from a population of size N.\n",
    "\n",
    "Oh noooooo...\n",
    "<center>\n",
    "    <img src=\"ipynb.images/miserable.png\" width=300 />\n",
    "</center>\n",
    "\n",
    "We need to again modify our awesome probability counting `p()` function (which takes each event as **equiprobable**) to take this miserable fact into account. Essentially, it's as if each *numbered ball* comes with its *own* probability of being picked. So we will need to use probability **dictionaries**.\n",
    "\n",
    "We love python dictionaries, right, so it should be fun, right?\n",
    "\n",
    "<br />\n",
    "<center>\n",
    "    <img src=\"ipynb.images/pin.gif\" width=400 />\n",
    "</center>"
   ]
  },
  {
   "cell_type": "markdown",
   "metadata": {},
   "source": [
    "First, let's plot a few binomial distributions:"
   ]
  },
  {
   "cell_type": "code",
   "execution_count": 8,
   "metadata": {},
   "outputs": [
    {
     "data": {
      "image/png": "[encoded data removed]",
      "text/plain": [
       "<Figure size 500x375 with 1 Axes>"
      ]
     },
     "metadata": {},
     "output_type": "display_data"
    }
   ],
   "source": [
    "# n and p are exactly as defined above\n",
    "import numpy as np\n",
    "from scipy.stats import binom\n",
    "from matplotlib import pyplot as plt\n",
    "%matplotlib inline\n",
    "\n",
    "n_values = [20, 25, 40]\n",
    "p_values = [0.1, 0.5, 0.5]\n",
    "x = np.arange(0, 50)    \n",
    "\n",
    "fig, ax = plt.subplots(figsize=(5, 3.75))\n",
    "\n",
    "for (n, p) in zip(n_values, p_values):\n",
    "    # create a binomial distribution\n",
    "    dist = binom(n, p)\n",
    "\n",
    "    plt.plot(x, dist.pmf(x))"
   ]
  },
  {
   "cell_type": "markdown",
   "metadata": {},
   "source": [
    "### Approximations\n",
    "\n",
    "We see that if $n$ is large enough and the skew $p$ of the distribution is not too great (not too close to 0 or too close to 1), then a reasonable approximation to B(n, p) is given by a **normal distribution**!. In fact, it can be proven that it is close to:\n",
    "\n",
    "$$N(np, np(1-p))$$\n",
    "\n",
    "if both values $np$ and $n(1-p)$ are greater than or equal to 5. This approximation, known as de Moivre–Laplace theorem, is a huge time-saver when undertaking calculations by hand (exact calculations with large n are very onerous). Historically, it was the first use of the normal distribution, introduced in Abraham de Moivre's book *The Doctrine of Chances* in 1738.\n",
    "\n",
    "The binomial distribution also converges towards another distribution that we have not seen yet: the **Poisson distribution**, as the number of trials goes to infinity while the product $np$ remains fixed or at least $p$ tends to zero. Therefore, the Poisson distribution with parameter $λ = np$ can be used as an approximation to B(n, p) if $n$ is sufficiently large and $p$ is sufficiently small. According to two rules of thumb, this approximation is good if $n ≥ 20$ and $p ≤ 0.05$, or if $n ≥ 100$ and $np ≤ 10$."
   ]
  },
  {
   "cell_type": "markdown",
   "metadata": {},
   "source": [
    "### A bit of Python-fu\n",
    "\n",
    "Now, let's digress a bit into abstract computer science..\n",
    "\n",
    "In Python, `*args` and `**kwargs` is a common idiom to allow ***arbitrary number of arguments*** to functions. `*args` will give you all function parameters as a tuple, `**kwargs` will give you all keyword arguments (except those corresponding to a formal parameter) as a dictionary:\n",
    "```python\n",
    "def foo(*args):\n",
    "    for a in args:\n",
    "    print a\n",
    "        \n",
    "def bar(**kwargs):\n",
    "    for a in kwargs:\n",
    "        print a, kwargs[a]\n",
    "```"
   ]
  },
  {
   "cell_type": "markdown",
   "metadata": {},
   "source": [
    "Let’s say we want to create a higher-order function that takes as input some function $f$ and returns a new function that for any input returns *twice* the value of $f$:"
   ]
  },
  {
   "cell_type": "code",
   "execution_count": 9,
   "metadata": {},
   "outputs": [],
   "source": [
    "def my_doubler(f):\n",
    "    def my_g(x):\n",
    "        return 2 * f(x)\n",
    "    return my_g"
   ]
  },
  {
   "cell_type": "code",
   "execution_count": 10,
   "metadata": {},
   "outputs": [
    {
     "data": {
      "text/plain": [
       "<function __main__.my_doubler.<locals>.my_g(x)>"
      ]
     },
     "execution_count": 10,
     "metadata": {},
     "output_type": "execute_result"
    }
   ],
   "source": [
    "my_doubler(None)"
   ]
  },
  {
   "cell_type": "markdown",
   "metadata": {},
   "source": [
    "It works.. in most cases:"
   ]
  },
  {
   "cell_type": "code",
   "execution_count": 11,
   "metadata": {},
   "outputs": [
    {
     "name": "stdout",
     "output_type": "stream",
     "text": [
      "8\n"
     ]
    }
   ],
   "source": [
    "def f_plus_1(x):\n",
    "    return x + 1;\n",
    "\n",
    "h = my_doubler(f_plus_1)\n",
    "print(h(3)) #(3+1) * 2"
   ]
  },
  {
   "cell_type": "markdown",
   "metadata": {},
   "source": [
    "Now try this:"
   ]
  },
  {
   "cell_type": "code",
   "execution_count": 12,
   "metadata": {},
   "outputs": [
    {
     "ename": "TypeError",
     "evalue": "my_g() takes 1 positional argument but 2 were given",
     "output_type": "error",
     "traceback": [
      "\u001b[1;31m---------------------------------------------------------------------------\u001b[0m",
      "\u001b[1;31mTypeError\u001b[0m                                 Traceback (most recent call last)",
      "\u001b[1;32m~\\AppData\\Local\\Temp\\ipykernel_75536\\1539257309.py\u001b[0m in \u001b[0;36m<module>\u001b[1;34m\u001b[0m\n\u001b[0;32m      3\u001b[0m \u001b[1;33m\u001b[0m\u001b[0m\n\u001b[0;32m      4\u001b[0m \u001b[0mh\u001b[0m \u001b[1;33m=\u001b[0m \u001b[0mmy_doubler\u001b[0m\u001b[1;33m(\u001b[0m\u001b[0mmy_sum2\u001b[0m\u001b[1;33m)\u001b[0m\u001b[1;33m\u001b[0m\u001b[1;33m\u001b[0m\u001b[0m\n\u001b[1;32m----> 5\u001b[1;33m \u001b[0mprint\u001b[0m\u001b[1;33m(\u001b[0m\u001b[0mh\u001b[0m\u001b[1;33m(\u001b[0m\u001b[1;36m1\u001b[0m\u001b[1;33m,\u001b[0m\u001b[1;36m2\u001b[0m\u001b[1;33m)\u001b[0m\u001b[1;33m)\u001b[0m\u001b[1;33m\u001b[0m\u001b[1;33m\u001b[0m\u001b[0m\n\u001b[0m",
      "\u001b[1;31mTypeError\u001b[0m: my_g() takes 1 positional argument but 2 were given"
     ]
    }
   ],
   "source": [
    "def my_sum2(x, y):\n",
    "    return x + y;\n",
    "\n",
    "h = my_doubler(my_sum2)\n",
    "print(h(1,2))"
   ]
  },
  {
   "cell_type": "markdown",
   "metadata": {},
   "source": [
    "Oh *nooooo*!\n",
    "\n",
    "What we need is a way to specify a function that takes *arbitrary arguments*. This is where Python's `*args` and `**kwargs` come into play:"
   ]
  },
  {
   "cell_type": "code",
   "execution_count": 13,
   "metadata": {},
   "outputs": [
    {
     "name": "stdout",
     "output_type": "stream",
     "text": [
      "unnamed args:  (1, 2, 3, 4)\n",
      "keyword args:  {'key1': 'NU', 'key2': 'rocks!', 'key3': 'really!', 'key4': 'ah-hah!'}\n"
     ]
    }
   ],
   "source": [
    "def magic(*args, **kwargs):\n",
    "    print (\"unnamed args: \", args)\n",
    "    print (\"keyword args: \", kwargs)\n",
    "magic(1, 2, 3, 4, key1 = 'NU', key2 = 'rocks!', key3 = 'really!', key4 = 'ah-hah!')"
   ]
  },
  {
   "cell_type": "markdown",
   "metadata": {},
   "source": [
    "<br />\n",
    "<center>\n",
    "    <img src=\"ipynb.images/magic.png\" width=300 />**Ohhhhhhhhhhhh**</a><br>你真聪明\n",
    "</center>"
   ]
  },
  {
   "cell_type": "markdown",
   "metadata": {},
   "source": [
    "args is a `tuple` of its unnamed arguments and kwargs is a `dictionary` of its named arguments. So now we can:"
   ]
  },
  {
   "cell_type": "code",
   "execution_count": 14,
   "metadata": {},
   "outputs": [],
   "source": [
    "def my_new_doubler(f):\n",
    "    \"\"\"works no matter the inputs\"\"\"\n",
    "    def my_g(*args, **kwargs):\n",
    "        return 2 * f(*args, **kwargs)\n",
    "    return my_g"
   ]
  },
  {
   "cell_type": "markdown",
   "metadata": {},
   "source": [
    "and now:"
   ]
  },
  {
   "cell_type": "code",
   "execution_count": 15,
   "metadata": {},
   "outputs": [
    {
     "name": "stdout",
     "output_type": "stream",
     "text": [
      "6\n"
     ]
    }
   ],
   "source": [
    "h = my_new_doubler(my_sum2)\n",
    "print(h(1, 2))  # 6:"
   ]
  },
  {
   "cell_type": "markdown",
   "metadata": {},
   "source": [
    "Ok, ***now*** are ready to define **Probability distributions** in python, our new ***p*** function, where each outcome on the x-axis has its own distinct probability of being picked: One (high) value for rock star, one (low) value for Dino for the outcome of marrying Dua Lipa.\n",
    "\n",
    ">**Guess**: What python data structure are we likely to use to define probability distributions?\n",
    "\n",
    "We define `ProbDist` to take the same kinds of arguments that a `dict` does: either a **mapping** (from item to its probability) or a **set** of (key, val) pairs, and/or optional keyword arguments (because each ball in the urn is *special* now: it has its *own* probability of being picked). \n",
    "\n",
    ">**A dose of reality**: It's like all boys/girls are not equal! You will not just pick any boy/girl to be your girl/boyfriend! There are some that have a *much higher chance* of being picked by you (related to *your* taste)!\n",
    "\n",
    "This is the first time (in class), that we will define a Python `class`, instead of a Python **function/lambda**. That is why we will define its **constructor** `__init__()`. We assume `self` (`this` in Python) is composed of a set:"
   ]
  },
  {
   "cell_type": "code",
   "execution_count": 16,
   "metadata": {
    "button": false,
    "new_sheet": false,
    "run_control": {
     "read_only": false
    }
   },
   "outputs": [],
   "source": [
    "class ProbDist(dict):\n",
    "    \"\"\"A Probability Distribution; an {outcome: probability} mapping.\"\"\"\n",
    "    def __init__(self, mapping=(), **kwargs):\n",
    "        self.update(mapping, **kwargs)\n",
    "        # Make probabilities sum to 1.0; assert no negative probabilities\n",
    "        total = sum(self.values())\n",
    "        for outcome in self:\n",
    "            self[outcome] = self[outcome] / total\n",
    "            assert self[outcome] >= 0"
   ]
  },
  {
   "cell_type": "markdown",
   "metadata": {
    "button": false,
    "new_sheet": false,
    "run_control": {
     "read_only": false
    }
   },
   "source": [
    "We also need to modify the functions `p` and `such_that` to accept either a sample space as we had previously, or a probability distribution as the second argument `space`. \n",
    "\n",
    ">**Oh-oh**: Now we need to branch out on the ***2nd argument*** of function `p`!\n",
    "\n",
    "If we have a probability distribution, instead of *counting* each possible outcome equiprobably and thus just summing up `1`s (numerator: sum of all *favorable* outcomes, denominator: sum of all *possible* outcomes), we need to sum up the different discrete probabilities of each possible outcome: `sum(space[o] for o in space if o in event)`. \n",
    "\n",
    "We also need to modify `such_that()`, which is the set of all outcomes of our sample space for which the predicate (first) argument is `True`, so that its second argument can also be a `ProbDist`."
   ]
  },
  {
   "cell_type": "code",
   "execution_count": 17,
   "metadata": {
    "button": false,
    "new_sheet": false,
    "run_control": {
     "read_only": false
    }
   },
   "outputs": [],
   "source": [
    "def p(event, space): \n",
    "    \"\"\"The probability of an event, given a sample space of equiprobable outcomes. \n",
    "    event: a collection of outcomes, or a predicate that is true of outcomes in the event. \n",
    "    space: a set of outcomes or a probability distribution of {outcome: frequency} pairs.\"\"\"\n",
    "    # branch on the type of the first argument\n",
    "    if is_predicate(event):\n",
    "        # transform the mapping (untangible) 'event' into the collection (tangible) 'event'\n",
    "        print('if for is_predicate printed')\n",
    "        event = such_that(event, space)\n",
    "        \n",
    "    if isinstance(space, ProbDist):\n",
    "        # if space is a dictionary of distinct probabilities, where each item does not count as the same amount\n",
    "        # we need to be careful and count each amount according to what it's worth\n",
    "        print('if for isinstance printed')\n",
    "        for o in event:\n",
    "            print(space[o])\n",
    "        return sum([space[o] for o in event])\n",
    "    else:\n",
    "        # space is not a dictionary but a collection, let's fall back to our original division\n",
    "        print('else for isinstance printed')\n",
    "        return Fraction(len(event & space), len(space))\n",
    "\n",
    "is_predicate = callable\n",
    "\n",
    "def such_that(predicate, space): \n",
    "    \"\"\"The outcomes in the sample pace for which the predicate is true.\n",
    "    If space is a set, return a subset {outcome,...} with outcomes where predicate(element) is true;\n",
    "    if space is a ProbDist, return a ProbDist {outcome: frequency,...} with outcomes where predicate(element) is true.\"\"\"\n",
    "    if isinstance(space, ProbDist):\n",
    "        print('if for such_that printed')\n",
    "        return ProbDist({o:space[o] for o in space if predicate(o)})\n",
    "    else:\n",
    "        print('else for such_that printed')\n",
    "        return {o for o in space if predicate(o)}"
   ]
  },
  {
   "cell_type": "markdown",
   "metadata": {
    "button": false,
    "new_sheet": false,
    "run_control": {
     "read_only": false
    }
   },
   "source": [
    "And now we can finally take on the Danes from the data science paper!\n",
    "<br />\n",
    "<center>\n",
    "    <img src=\"ipynb.images/Danes.png\" width=300 />\n",
    "</center>\n",
    "\n",
    "# Danish two-child families: An introduction to *conditional* and *marginal* probabilities\n",
    "Here is the probability distribution for Danish two-child families as a `dictionar`y, describing the probability of each possible outcome, according to the data science paper referenced above:"
   ]
  },
  {
   "cell_type": "code",
   "execution_count": 18,
   "metadata": {
    "button": false,
    "new_sheet": false,
    "run_control": {
     "read_only": false
    }
   },
   "outputs": [
    {
     "data": {
      "text/plain": [
       "{'GG': 0.23840384261560926,\n",
       " 'GB': 0.24826679089140383,\n",
       " 'BG': 0.24882071317004043,\n",
       " 'BB': 0.2645086533229465}"
      ]
     },
     "execution_count": 18,
     "metadata": {},
     "output_type": "execute_result"
    }
   ],
   "source": [
    "DK = ProbDist(GG=121801, GB=126840,\n",
    "              BG=127123, BB=135138)\n",
    "DK"
   ]
  },
  {
   "cell_type": "markdown",
   "metadata": {
    "button": false,
    "new_sheet": false,
    "run_control": {
     "read_only": false
    }
   },
   "source": [
    "Let's write some useful predicates (in lambda syntax):\n",
    "```python\n",
    "def first_girl(outcome):  return outcome[0] == 'G'\n",
    "def first_boy(outcome):   return outcome[0] == 'B'\n",
    "def second_girl(outcome): return outcome[1] == 'G'\n",
    "def second_boy(outcome):  return outcome[1] == 'B'\n",
    "def two_girls(outcome):   return outcome    == 'GG'\n",
    "```\n",
    "Using these predicates, answer the following questions:\n",
    "\n",
    "* **Question 1**: What's the probability for a girl, and is it higher or lower for a ***second*** girl?\n",
    "* **Question 2**: Is the sex of the younger (second) child more likely or less likely to be the same as the first child? And is it more likely to be a boy or a girl?\n",
    "\n",
    "*Hint:* You will leverage the probability of a first girl, the probability of a second girl given that there was a first girl, and the probability of a second girl given that there was a first boy. In other words: `p(first_girl, DK)`, `p(second_girl, such_that(first_girl, DK))`, and `p(second_girl, such_that(first_boy, DK))`"
   ]
  },
  {
   "cell_type": "code",
   "execution_count": 19,
   "metadata": {
    "button": false,
    "new_sheet": false,
    "run_control": {
     "read_only": false
    }
   },
   "outputs": [],
   "source": [
    "def first_girl(outcome):  return outcome[0] == 'G'\n",
    "def first_boy(outcome):   return outcome[0] == 'B'\n",
    "def second_girl(outcome): return outcome[1] == 'G'\n",
    "def second_boy(outcome):  return outcome[1] == 'B'\n",
    "def two_girls(outcome):   return outcome    == 'GG'"
   ]
  },
  {
   "cell_type": "code",
   "execution_count": 20,
   "metadata": {},
   "outputs": [
    {
     "name": "stdout",
     "output_type": "stream",
     "text": [
      "if for is_predicate printed\n",
      "if for such_that printed\n",
      "if for isinstance printed\n",
      "0.23840384261560926\n",
      "0.24826679089140383\n"
     ]
    },
    {
     "data": {
      "text/plain": [
       "0.4866706335070131"
      ]
     },
     "execution_count": 20,
     "metadata": {},
     "output_type": "execute_result"
    }
   ],
   "source": [
    "p(first_girl, DK)"
   ]
  },
  {
   "cell_type": "code",
   "execution_count": 21,
   "metadata": {},
   "outputs": [
    {
     "name": "stdout",
     "output_type": "stream",
     "text": [
      "if for is_predicate printed\n",
      "if for such_that printed\n",
      "if for isinstance printed\n",
      "0.23840384261560926\n",
      "0.24882071317004043\n"
     ]
    },
    {
     "data": {
      "text/plain": [
       "0.4872245557856497"
      ]
     },
     "execution_count": 21,
     "metadata": {},
     "output_type": "execute_result"
    }
   ],
   "source": [
    "p(second_girl, DK)"
   ]
  },
  {
   "cell_type": "markdown",
   "metadata": {},
   "source": [
    ">**Student Question**: Can we write the probability of 'BG' as p(second_girl and first_boy, DK)?"
   ]
  },
  {
   "cell_type": "code",
   "execution_count": 22,
   "metadata": {},
   "outputs": [
    {
     "data": {
      "text/plain": [
       "(False, True, False, True)"
      ]
     },
     "execution_count": 22,
     "metadata": {},
     "output_type": "execute_result"
    }
   ],
   "source": [
    "(\n",
    "    (second_girl and first_boy)('GG'), (second_girl and first_boy)('BB'), \n",
    "    (second_girl and first_boy)('GB'), (second_girl and first_boy)('BG')\n",
    ")"
   ]
  },
  {
   "cell_type": "markdown",
   "metadata": {},
   "source": [
    "Hmm... Why is `(second_girl and first_boy)('BB') == True`?!"
   ]
  },
  {
   "cell_type": "code",
   "execution_count": 23,
   "metadata": {},
   "outputs": [
    {
     "data": {
      "text/plain": [
       "True"
      ]
     },
     "execution_count": 23,
     "metadata": {},
     "output_type": "execute_result"
    }
   ],
   "source": [
    "(second_girl and first_boy)('BB')"
   ]
  },
  {
   "cell_type": "markdown",
   "metadata": {},
   "source": [
    "When we compute:"
   ]
  },
  {
   "cell_type": "code",
   "execution_count": 24,
   "metadata": {},
   "outputs": [
    {
     "data": {
      "text/plain": [
       "(False, True)"
      ]
     },
     "execution_count": 24,
     "metadata": {},
     "output_type": "execute_result"
    }
   ],
   "source": [
    "second_girl('BB'), first_boy('BB')"
   ]
  },
  {
   "cell_type": "markdown",
   "metadata": {},
   "source": [
    "We get `False` and `True`, and I know that 'False and True == False`!"
   ]
  },
  {
   "cell_type": "code",
   "execution_count": 25,
   "metadata": {},
   "outputs": [
    {
     "data": {
      "text/plain": [
       "False"
      ]
     },
     "execution_count": 25,
     "metadata": {},
     "output_type": "execute_result"
    }
   ],
   "source": [
    "False and True"
   ]
  },
  {
   "cell_type": "markdown",
   "metadata": {},
   "source": [
    "So what is going on? To me, what it means is that `if f and g are two boolean functions, (f and g)(x) != f(x) and g(x)`"
   ]
  },
  {
   "cell_type": "code",
   "execution_count": 26,
   "metadata": {},
   "outputs": [
    {
     "data": {
      "text/plain": [
       "(<function __main__.second_girl(outcome)>,\n",
       " <function __main__.first_boy(outcome)>)"
      ]
     },
     "execution_count": 26,
     "metadata": {},
     "output_type": "execute_result"
    }
   ],
   "source": [
    "second_girl, second_girl and first_boy"
   ]
  },
  {
   "cell_type": "code",
   "execution_count": 27,
   "metadata": {},
   "outputs": [
    {
     "data": {
      "text/plain": [
       "<function __main__.second_girl(outcome)>"
      ]
     },
     "execution_count": 27,
     "metadata": {},
     "output_type": "execute_result"
    }
   ],
   "source": [
    "first_boy and second_girl"
   ]
  },
  {
   "cell_type": "markdown",
   "metadata": {},
   "source": [
    "So, instead of doing `p(second_girl and first_boy, DK)`, we hve to rewrite our `p` function so it takes in a ***collection*** of predicates as its first argument! We define two new functions, `p_or` and `p_and`, where the former considers the union of predicates, and the latter the intersection (we also restrict ourselves to the case where the first argument is of type predicate and the second of type probability distribution):"
   ]
  },
  {
   "cell_type": "code",
   "execution_count": 28,
   "metadata": {},
   "outputs": [],
   "source": [
    "def p_or(event_collection, space): \n",
    "    \"\"\"The probability of an event collection union, given a sample space of equiprobable outcomes. \n",
    "    event: a collection of predicates that are true of outcomes in the event.\n",
    "    space: a probability distribution of {outcome: frequency} pairs.\"\"\"\n",
    "    \n",
    "    event_collection_u = set()\n",
    "    for event in event_collection:\n",
    "        # transform the mapping (untangible) 'event' into the collection (tangible) 'event'\n",
    "        event2 = such_that2(event, space)\n",
    "        event_collection_u.update(set(event2.keys()))\n",
    "    return sum([space[o] for o in event_collection_u])\n",
    "    \n",
    "def p_and(event_collection, space): \n",
    "    \"\"\"The probability of an event collection intersection, given a sample space of equiprobable outcomes. \n",
    "    event: a collection of predicates that are true of outcomes in the event. \n",
    "    space: a set of outcomes or a probability distribution of {outcome: frequency} pairs.\"\"\"\n",
    "   \n",
    "    lst_of_sets = []\n",
    "    for e in event_collection:\n",
    "        lst_of_sets.append({o for o in list(space.keys()) if e(o)})\n",
    "    # Call the intersection() method on the first set object.\n",
    "    # Pass all sets as arguments into the intersection() method by unpacking the list with the asterisk operator *list.\n",
    "    #print(lst_of_sets[0].intersection(*lst_of_sets))\n",
    "    return sum([space[o] for o in lst_of_sets[0].intersection(*lst_of_sets)])\n",
    "\n",
    "is_predicate = callable\n",
    "\n",
    "def such_that2(predicate, space): \n",
    "    \"\"\"The outcomes in the sample pace for which the predicate is true.\n",
    "    Space is a ProbDist, so return a ProbDist {outcome: frequency,...} with outcomes where predicate(element) is true.\"\"\"\n",
    "    return ProbDist({o:space[o] for o in space if predicate(o)})"
   ]
  },
  {
   "cell_type": "markdown",
   "metadata": {},
   "source": [
    "Let's see if it works:"
   ]
  },
  {
   "cell_type": "code",
   "execution_count": 29,
   "metadata": {},
   "outputs": [
    {
     "data": {
      "text/plain": [
       "0.24882071317004043"
      ]
     },
     "execution_count": 29,
     "metadata": {},
     "output_type": "execute_result"
    }
   ],
   "source": [
    "p_and({second_girl, first_boy}, DK)"
   ]
  },
  {
   "cell_type": "markdown",
   "metadata": {},
   "source": [
    "And we can see this is exactly the value for the `'BG'` key of our sample space:"
   ]
  },
  {
   "cell_type": "code",
   "execution_count": 30,
   "metadata": {},
   "outputs": [
    {
     "data": {
      "text/plain": [
       "0.24882071317004043"
      ]
     },
     "execution_count": 30,
     "metadata": {},
     "output_type": "execute_result"
    }
   ],
   "source": [
    "DK['BG']"
   ]
  },
  {
   "cell_type": "markdown",
   "metadata": {},
   "source": [
    "Also:"
   ]
  },
  {
   "cell_type": "code",
   "execution_count": 31,
   "metadata": {},
   "outputs": [
    {
     "data": {
      "text/plain": [
       "0.7517332091085962"
      ]
     },
     "execution_count": 31,
     "metadata": {},
     "output_type": "execute_result"
    }
   ],
   "source": [
    "p_or({second_girl, first_boy}, DK)"
   ]
  },
  {
   "cell_type": "code",
   "execution_count": 32,
   "metadata": {},
   "outputs": [
    {
     "data": {
      "text/plain": [
       "0.7517332091085962"
      ]
     },
     "execution_count": 32,
     "metadata": {},
     "output_type": "execute_result"
    }
   ],
   "source": [
    "DK['BG'] + DK['GG'] + DK['BB']"
   ]
  },
  {
   "cell_type": "markdown",
   "metadata": {},
   "source": [
    "Yay!"
   ]
  },
  {
   "cell_type": "markdown",
   "metadata": {},
   "source": [
    "Now answer the **question 2** as to whether the sex of the second child is *more likely* or *less likely* to be the same as the first child, by evaluating first:\n",
    "\n",
    "- The probability of a second girl *given that the first child was a girl* (a [conditional probability](https://en.wikipedia.org/wiki/Conditional_probability))\n",
    "- The probability of a second girl *given that the first child was a boy* (a conditional probability)\n",
    "- The probability of a second boy *given that the first child was a boy* (a conditional probability)\n",
    "- The probability of a second boy *given that the first child was a girl* (a conditional probability)\n",
    "\n",
    "The average of the ***first*** two probabilities above represents the probability of a second girl (*irrespective* of any other conditions)! It's a [marginal probability](https://en.wikipedia.org/wiki/Marginal_distribution) in our problem.\n",
    "\n",
    "The average of the ***last*** two probabilities above represents the probability of a second boy, a **marginal probability** in our problem.\n",
    "\n",
    "These are the first two conditional probabilities:"
   ]
  },
  {
   "cell_type": "markdown",
   "metadata": {},
   "source": [
    "p(A | B)"
   ]
  },
  {
   "cell_type": "code",
   "execution_count": 33,
   "metadata": {},
   "outputs": [
    {
     "name": "stdout",
     "output_type": "stream",
     "text": [
      "if for such_that printed\n",
      "if for is_predicate printed\n",
      "if for such_that printed\n",
      "if for isinstance printed\n",
      "0.48471942072973107\n"
     ]
    },
    {
     "data": {
      "text/plain": [
       "0.48471942072973107"
      ]
     },
     "execution_count": 33,
     "metadata": {},
     "output_type": "execute_result"
    }
   ],
   "source": [
    "# p(second_girl and first_boy, DK) <-- does not work, so do this instead:\n",
    "p(second_girl, such_that(first_boy, DK))"
   ]
  },
  {
   "cell_type": "code",
   "execution_count": 34,
   "metadata": {},
   "outputs": [
    {
     "name": "stdout",
     "output_type": "stream",
     "text": [
      "if for such_that printed\n",
      "if for is_predicate printed\n",
      "if for such_that printed\n",
      "if for isinstance printed\n",
      "0.4898669165584115\n",
      "if for such_that printed\n",
      "if for is_predicate printed\n",
      "if for such_that printed\n",
      "if for isinstance printed\n",
      "0.48471942072973107\n"
     ]
    },
    {
     "data": {
      "text/plain": [
       "(0.4898669165584115, 0.48471942072973107)"
      ]
     },
     "execution_count": 34,
     "metadata": {},
     "output_type": "execute_result"
    }
   ],
   "source": [
    "p(second_girl, such_that(first_girl, DK)), p(second_girl, such_that(first_boy, DK))"
   ]
  },
  {
   "cell_type": "markdown",
   "metadata": {},
   "source": [
    "These are the last two conditional probabilities:"
   ]
  },
  {
   "cell_type": "code",
   "execution_count": 35,
   "metadata": {},
   "outputs": [
    {
     "name": "stdout",
     "output_type": "stream",
     "text": [
      "if for such_that printed\n",
      "if for is_predicate printed\n",
      "if for such_that printed\n",
      "if for isinstance printed\n",
      "0.5101330834415885\n",
      "if for such_that printed\n",
      "if for is_predicate printed\n",
      "if for such_that printed\n",
      "if for isinstance printed\n",
      "0.5152805792702689\n"
     ]
    },
    {
     "data": {
      "text/plain": [
       "(0.5101330834415885, 0.5152805792702689)"
      ]
     },
     "execution_count": 35,
     "metadata": {},
     "output_type": "execute_result"
    }
   ],
   "source": [
    "p(second_boy, such_that(first_girl, DK)), p(second_boy, such_that(first_boy, DK))"
   ]
  },
  {
   "cell_type": "markdown",
   "metadata": {},
   "source": [
    "The above says that the sex of the second child is more likely to be the same as the first child, by about 1/2 a percentage point.\n",
    "\n",
    "And so, the **marginal probabilities** we are after are:"
   ]
  },
  {
   "cell_type": "code",
   "execution_count": 36,
   "metadata": {},
   "outputs": [
    {
     "name": "stdout",
     "output_type": "stream",
     "text": [
      "if for such_that printed\n",
      "if for is_predicate printed\n",
      "if for such_that printed\n",
      "if for isinstance printed\n",
      "0.4898669165584115\n",
      "if for such_that printed\n",
      "if for is_predicate printed\n",
      "if for such_that printed\n",
      "if for isinstance printed\n",
      "0.48471942072973107\n"
     ]
    },
    {
     "data": {
      "text/plain": [
       "0.4872931686440713"
      ]
     },
     "execution_count": 36,
     "metadata": {},
     "output_type": "execute_result"
    }
   ],
   "source": [
    "p_second_girl = (p(second_girl, such_that(first_girl, DK)) + p(second_girl, such_that(first_boy, DK))) /2\n",
    "p_second_girl"
   ]
  },
  {
   "cell_type": "code",
   "execution_count": 37,
   "metadata": {},
   "outputs": [
    {
     "name": "stdout",
     "output_type": "stream",
     "text": [
      "if for such_that printed\n",
      "if for is_predicate printed\n",
      "if for such_that printed\n",
      "if for isinstance printed\n",
      "0.5101330834415885\n",
      "if for such_that printed\n",
      "if for is_predicate printed\n",
      "if for such_that printed\n",
      "if for isinstance printed\n",
      "0.5152805792702689\n"
     ]
    },
    {
     "data": {
      "text/plain": [
       "0.5127068313559286"
      ]
     },
     "execution_count": 37,
     "metadata": {},
     "output_type": "execute_result"
    }
   ],
   "source": [
    "p_second_boy = (p(second_boy, such_that(first_girl, DK)) + p(second_boy, such_that(first_boy, DK))) / 2\n",
    "p_second_boy "
   ]
  },
  {
   "cell_type": "markdown",
   "metadata": {
    "button": false,
    "new_sheet": false,
    "run_control": {
     "read_only": false
    }
   },
   "source": [
    "In conclusion we see that the probability of a girl is somewhere between 48% and 49%, but slightly different between the first or second child, that the sex of the second child is more likely to be the ***same*** as the first child, by about 1/2 a percentage point, and that Danes are more likely to have a ***boy*** as the younger child, rather than a girl, by 2% points. \n",
    "\n",
    "Cooool..! We got all that through *programming*. No math! By spelling out our sets and writing down our logic.\n",
    "\n",
    "<br />\n",
    "<center>\n",
    "<img src=\"ipynb.images/pretty-bunny.gif\" />\n",
    "</center>"
   ]
  },
  {
   "cell_type": "markdown",
   "metadata": {
    "button": false,
    "new_sheet": false,
    "run_control": {
     "read_only": false
    }
   },
   "source": [
    "# 6. M&Ms and an introduction to Bayes' Theorem\n",
    "<br />\n",
    "<center>\n",
    "<img src=\"https://upload.wikimedia.org/wikipedia/en/9/97/M%26M_spokescandies.jpeg\" />\n",
    "</center>\n",
    "\n",
    "[Bayes's theorem](https://en.wikipedia.org/wiki/Bayes%27_theorem) describes the probability of an event $A$, based on prior knowledge of conditions $E$ that might be related to the event:\n",
    "\n",
    "$$P(A \\;|\\; E) = \\frac{P(E \\;|\\; A) \\;*\\; P(A)}{ P(E) }$$\n",
    "\n",
    "Just like the `1 minus` trick for estimating probabilities, you use Bayes' theorem when $P(E \\;|\\; A)$ is easier to compute than $P(A \\;|\\; E)$.\n",
    "\n",
    "For example, if the risk of developing deadly covid19 problems is known to increase with age and medical preconditions. Bayes's theorem allows the risk to an individual of a known age or having a medical precondition to be assessed more accurately than simply assuming that the individual is typical of the population as a whole.\n",
    "\n",
    "Let's study Bayes with another experiment.\n",
    "\n",
    "Here's another urn problem (or \"bag\" problem) [from](http://allendowney.blogspot.com/2011/10/my-favorite-bayess-theorem-problems.html) prolific Python/Probability author [Allen Downey ](http://allendowney.blogspot.com/), which also happens to be a classic interview question:\n",
    "\n",
    "> The blue M&M was introduced in 1995.  Before then, the color mix in a bag of plain M&Ms was (30% Brown, 20% Yellow, 20% Red, 10% Green, 10% Orange, 10% Tan).  Afterward it was (24% Blue , 20% Green, 16% Orange, 14% Yellow, 13% Red, 13% Brown). \n",
    "A friend of mine has two bags of M&Ms, and he picks one M&M from one bag and one from the other, and he tells me that one is from 1994 and one from 1996.  He won't tell me which is which, but he gives me one M&M from each bag.  One is yellow and one is green.  What is the probability that the yellow M&M came from the 1994 bag? Well, the old M&M bags' yellow count was higher, so it must be higher, right? But how to count?\n",
    "\n",
    "To solve this problem, we'll first represent probability distributions for each bag: `bag94` and `bag96`, by using `ProbDist` and passing in dictionaries for each year:\n",
    "```python\n",
    "bag94 = ProbDist(brown=30, yellow=20, red=20, green=10, orange=10, tan=10)\n",
    "bag96 = ProbDist(...)  #fill this in, please\n",
    "```"
   ]
  },
  {
   "cell_type": "code",
   "execution_count": 38,
   "metadata": {
    "button": false,
    "new_sheet": false,
    "run_control": {
     "read_only": false
    }
   },
   "outputs": [],
   "source": [
    "bag94 = ProbDist(brown=30, yellow=20, red=20, green=10, orange=10, tan=10)\n",
    "bag96 = ProbDist(brown=13, yellow=14, red=13, green=20, orange=16, blue=24)"
   ]
  },
  {
   "cell_type": "code",
   "execution_count": 39,
   "metadata": {},
   "outputs": [
    {
     "data": {
      "text/plain": [
       "{'brown': 0.3,\n",
       " 'yellow': 0.2,\n",
       " 'red': 0.2,\n",
       " 'green': 0.1,\n",
       " 'orange': 0.1,\n",
       " 'tan': 0.1}"
      ]
     },
     "execution_count": 39,
     "metadata": {},
     "output_type": "execute_result"
    }
   ],
   "source": [
    "bag94"
   ]
  },
  {
   "cell_type": "markdown",
   "metadata": {
    "button": false,
    "new_sheet": false,
    "run_control": {
     "read_only": false
    }
   },
   "source": [
    "Next, define `MM` as the *joint* distribution 94-96&mdash;the sample space for picking *one* M&M from *each* bag. The outcome `'yellow green'` means that a yellow M&M was selected from the 1994 bag and a green one from the 1996 bag. We will use a *set comprehension*.\n",
    "\n",
    "Uhhhh... What do we use for sets again? Is it `[`, or `(`, or `{`?\n",
    "\n",
    "To note:\n",
    "* We are using a python *set* because we care about dictionaries, and dictionary keys are unique\n",
    "* You can also think in terms of JSON objects\n",
    "\n",
    "```python\n",
    "def joint(A, B, sep=''):\n",
    "    \"\"\"The joint distribution of two independent probability distributions. \n",
    "    Result is all entries of the form {a+sep+b: P(a)*P(b)}\"\"\"\n",
    "    return ProbDist({a + sep + b: A[a] * B[b]\n",
    "                    for ...\n",
    "                    for ...})\n",
    "\n",
    "MM = joint(bag94, bag96, ' ')\n",
    "MM\n",
    "```"
   ]
  },
  {
   "cell_type": "code",
   "execution_count": 40,
   "metadata": {
    "button": false,
    "new_sheet": false,
    "run_control": {
     "read_only": false
    }
   },
   "outputs": [
    {
     "data": {
      "text/plain": [
       "{'brown brown': 0.038999999999999986,\n",
       " 'brown yellow': 0.04199999999999998,\n",
       " 'brown red': 0.038999999999999986,\n",
       " 'brown green': 0.05999999999999997,\n",
       " 'brown orange': 0.04799999999999998,\n",
       " 'brown blue': 0.07199999999999997,\n",
       " 'yellow brown': 0.025999999999999992,\n",
       " 'yellow yellow': 0.02799999999999999,\n",
       " 'yellow red': 0.025999999999999992,\n",
       " 'yellow green': 0.03999999999999999,\n",
       " 'yellow orange': 0.03199999999999999,\n",
       " 'yellow blue': 0.04799999999999998,\n",
       " 'red brown': 0.025999999999999992,\n",
       " 'red yellow': 0.02799999999999999,\n",
       " 'red red': 0.025999999999999992,\n",
       " 'red green': 0.03999999999999999,\n",
       " 'red orange': 0.03199999999999999,\n",
       " 'red blue': 0.04799999999999998,\n",
       " 'green brown': 0.012999999999999996,\n",
       " 'green yellow': 0.013999999999999995,\n",
       " 'green red': 0.012999999999999996,\n",
       " 'green green': 0.019999999999999993,\n",
       " 'green orange': 0.015999999999999993,\n",
       " 'green blue': 0.02399999999999999,\n",
       " 'orange brown': 0.012999999999999996,\n",
       " 'orange yellow': 0.013999999999999995,\n",
       " 'orange red': 0.012999999999999996,\n",
       " 'orange green': 0.019999999999999993,\n",
       " 'orange orange': 0.015999999999999993,\n",
       " 'orange blue': 0.02399999999999999,\n",
       " 'tan brown': 0.012999999999999996,\n",
       " 'tan yellow': 0.013999999999999995,\n",
       " 'tan red': 0.012999999999999996,\n",
       " 'tan green': 0.019999999999999993,\n",
       " 'tan orange': 0.015999999999999993,\n",
       " 'tan blue': 0.02399999999999999}"
      ]
     },
     "execution_count": 40,
     "metadata": {},
     "output_type": "execute_result"
    }
   ],
   "source": [
    "def joint(A, B, sep=''):\n",
    "    return ProbDist({a + sep + b: A[a] * B[b]\n",
    "                    for a in A\n",
    "                    for b in B})\n",
    "    \n",
    "MM = joint(bag94, bag96, ' ')\n",
    "MM  \n",
    "\n",
    "    \n"
   ]
  },
  {
   "cell_type": "markdown",
   "metadata": {
    "button": false,
    "new_sheet": false,
    "run_control": {
     "read_only": false
    }
   },
   "source": [
    "Let's look at the \"One is yellow and one is green\" part:\n",
    "\n",
    "```python\n",
    "def yellow_and_green(outcome): return 'yellow' in outcome and 'green' in outcome\n",
    "\n",
    "such_that(...) # fill this in\n",
    "```"
   ]
  },
  {
   "cell_type": "code",
   "execution_count": 41,
   "metadata": {
    "button": false,
    "new_sheet": false,
    "run_control": {
     "read_only": false
    }
   },
   "outputs": [
    {
     "name": "stdout",
     "output_type": "stream",
     "text": [
      "if for such_that printed\n"
     ]
    },
    {
     "data": {
      "text/plain": [
       "{'yellow green': 0.7407407407407408, 'green yellow': 0.25925925925925924}"
      ]
     },
     "execution_count": 41,
     "metadata": {},
     "output_type": "execute_result"
    }
   ],
   "source": [
    "def yellow_and_green(outcome): return 'yellow' in outcome and 'green' in outcome\n",
    "such_that(yellow_and_green, MM)\n"
   ]
  },
  {
   "cell_type": "markdown",
   "metadata": {
    "button": false,
    "new_sheet": false,
    "run_control": {
     "read_only": false
    }
   },
   "source": [
    "Now we can answer the question: given that we got a yellow and a green (but don't know which comes from which bag), what is the probability that the yellow came from the 1994 bag?\n",
    "\n",
    "```python\n",
    "def yellow94(outcome): return ...\n",
    "\n",
    "p(yellow94, such_that(...)) # fill this in\n",
    "```"
   ]
  },
  {
   "cell_type": "code",
   "execution_count": 42,
   "metadata": {},
   "outputs": [
    {
     "name": "stdout",
     "output_type": "stream",
     "text": [
      "if for such_that printed\n",
      "if for is_predicate printed\n",
      "if for such_that printed\n",
      "if for isinstance printed\n",
      "0.7407407407407408\n"
     ]
    },
    {
     "data": {
      "text/plain": [
       "0.7407407407407408"
      ]
     },
     "execution_count": 42,
     "metadata": {},
     "output_type": "execute_result"
    }
   ],
   "source": [
    "def yellow94(outcome): return outcome.startswith('yellow')\n",
    "def yellow96(outcome): return outcome.endswith('yellow')\n",
    "\n",
    "p(yellow94, such_that(yellow_and_green, MM))"
   ]
  },
  {
   "cell_type": "markdown",
   "metadata": {
    "button": false,
    "new_sheet": false,
    "run_control": {
     "read_only": false
    }
   },
   "source": [
    "So there is a 74% chance that the yellow comes from the 1994 bag. We were *right* about our hunch :-)\n",
    "\n",
    "Answering this question was straightforward: just like all the other probability problems, we simply create a sample space, and use `p` to pick out the probability of the event in question, given what we know about the outcome. This is the 'mechanistic' way of obtaining our answer.\n",
    "\n",
    "# With Math\n",
    "We can *also* solve it using *Bayes' Theorem*, and this is as good as any's introduction to naive Bayes theory: We are asked about the probability of an event (M&M94 --> M&M96) given the evidence (M&M94 is yellow, M&M96 green), which is not immediately available. However the probability of the evidence, given the event is readily available!  \n",
    "\n",
    "Before we see the colors of the M&Ms, there are two hypotheses, `A` and `B`, both with equal probability:\n",
    "\n",
    "    A: first M&M from 94 bag, second from 96 bag\n",
    "    B: first M&M from 96 bag, second from 94 bag\n",
    "    P(A) = P(B) = 0.5\n",
    "    \n",
    "Then we get some evidence:\n",
    "    \n",
    "    E: first M&M yellow, second green\n",
    "    \n",
    "We want to know the probability of hypothesis `A`, given the evidence:\n",
    "    \n",
    "    P(A | E)\n",
    "    \n",
    "That's not easy to calculate (except by enumerating the sample space, which is what we did above). But Bayes Theorem says:\n",
    "    \n",
    "    P(A | E) = P(E | A) * P(A) / P(E)\n",
    "    \n",
    "The quantities on the *right-hand-side* are easier to calculate:\n",
    "    \n",
    "    P(E | A) = 20/100 * 20/100 = 0.04\n",
    "    P(E | B) = 10/100 * 14/100 = 0.014\n",
    "    P(A)     = 0.5\n",
    "    P(B)     = 0.5\n",
    "    P(E)     = P(E | A) * P(A) + P(E | B) * P(B) \n",
    "             = 0.04     * 0.5  + 0.014    * 0.5   =   0.027\n",
    "             \n",
    "Where did the probability of the evidence P(E) formula come from?\n",
    "\n",
    "There are two possibilities of getting the evidence: A and B, a *union* and so we sum their probabilities. The joint probability of the evidence *and* case A is a succession or *intersection*, so it must be a product of their probabilities: P(E|A).P(A). Likewise for the case B: P(E|B).P(B) \n",
    "    \n",
    "And so we can get a final answer:\n",
    "    \n",
    "    P(A | E) = P(E | A) * P(A) / P(E) \n",
    "             = 0.04     * 0.5  / 0.027 \n",
    "             = 0.7407407407\n",
    "             \n",
    "Bayes Theorem allows you to do less calculation at the cost of more algebra; that is a great trade-off if you are working with pencil and paper (like in interview situations). Enumerating the state space allows you to do less algebra at the cost of more calculation; often a good trade-off if you have a computer. But regardless of the approach you use, it is important to understand Bayes theorem and how it works.\n",
    "\n",
    "Bayes' theorem will be our introduction to more advanced statistics, which we'll cover *next* week!"
   ]
  },
  {
   "cell_type": "markdown",
   "metadata": {},
   "source": [
    "# Big Data? Big Deal..\n",
    "\n",
    "So far, we have talked of an *outcome* as being a single state of the world. But it can be useful to break that state of the world down into *many* components. We call these components **random variables**. For example, when we consider an experiment in which we roll *two* dice and observe their sum, we could model the situation with *two* random variables, one for each die (our representation of outcomes has been doing that implicitly all along, when we concatenate two parts of a string, but the concept of a random variable makes it official.)\n",
    "\n",
    "Remember [this](https://www.mathsisfun.com/data/quincunx.html) experiment?\n",
    "\n",
    "The **Central Limit Theorem** states that if you have a collection of random variables and sum them up, then the *larger* the collection, the *closer* the sum will be to a *normal distribution* (also called a *Gaussian distribution* or a *bell-shaped curve*). This illustrates why Data Science with **Big Data** is not really a challenge at all (other than how to store and compute with data that is larger than the RAM on your laptop)! If you have tons of data, then frequentist and Bayesian statistics coincide, there is little doubt about outcomes, and it is clear which outcome to place your bets on.\n",
    "\n",
    "The challenge is with **Small Data**, where there is doubt and you have no idea of the pdf, and you have to painstakingly  build a model with parameters, and refine your parameters so the model fits the data.\n",
    "\n",
    "Why do accidents happen in autonomous vehicles when it snows, at dusk, when the moon is behind a traffic light, and a pedestrian is crossing the street on a red light? Precisely because we don't have Big Data about that use case, and the autonomous car has **no idea what to do**! Uber needs *you* to program it for the Small DAta cases. Big Data is piece of cake!\n",
    "\n",
    "This is a good time to introduce the concept of a **histogram**, which is essentially a probability density function that we get from data collection or from analytic curves. If we have the 2D function `f(x,y)`, we can estimate the discretized probability density function (pdf) of `f` by computing how many values of `f` fall into specific bins with prespecified values of y.\n",
    "\n",
    "Plot the pdf of the following graph:\n",
    "<br />\n",
    "<center>\n",
    "    <img src=\"ipynb.images/graph.png\" width=200 />\n",
    "</center>"
   ]
  },
  {
   "cell_type": "markdown",
   "metadata": {},
   "source": [
    "### Celtics\n",
    "\n",
    "As another example, let's take 5 random variables reprsenting the per-game scores of the 5 Celtics starters for the 2018 season (Jayson Tatum or JT, Jaylen Brown or JB, Terry Rozier or TR, Al Horford or AL, and Aron Baynes or AB), and then sum them together to form the team score. The scores here are imaginary to introduce statistical function `gauss`, `triangular`, `vonmisesvariate`, and `uniform`. For the real season scores of this exciting and ultimately deflating season, visit [here](http://www.nba.com/celtics/stats?sort=PTS). Each random variable/player is represented as a probability distribution function; calling the function returns a single sample from the distribution:"
   ]
  },
  {
   "cell_type": "code",
   "execution_count": 43,
   "metadata": {},
   "outputs": [],
   "source": [
    "from random import gauss, triangular, choice, vonmisesvariate, uniform\n",
    "\n",
    "def JT(): return posint(gauss(15.1, 3) + 3 * triangular(1, 4, 13)) # 30.1\n",
    "def JB(): return posint(gauss(10.2, 3) + 3 * triangular(1, 3.5, 9)) # 22.1\n",
    "def TR(): return posint(vonmisesvariate(30, 2) * 3.08) # 14.0\n",
    "def AH(): return posint(gauss(6.7, 1.5) if choice((True, False)) else gauss(16.7, 2.5)) # 11.7\n",
    "def AB(): return posint(triangular(5, 17, 25) + uniform(0, 30) + gauss(6, 3)) # 37.0\n",
    "\n",
    "def posint(x): \"Positive integer\"; return max(0, int(round(x)))"
   ]
  },
  {
   "cell_type": "markdown",
   "metadata": {},
   "source": [
    "And here is a function to sample a random variable *k* times, show a histogram of the results, and return the mean:"
   ]
  },
  {
   "cell_type": "code",
   "execution_count": 44,
   "metadata": {},
   "outputs": [],
   "source": [
    "from statistics import mean\n",
    "\n",
    "def repeated_hist(rv, bins=10, k=100000):\n",
    "    \"Repeat rv() k times and make a histogram of the results.\"\n",
    "    samples = [rv() for _ in range(k)]\n",
    "    plt.hist(samples, bins=bins, color = 'g')\n",
    "    return mean(samples)"
   ]
  },
  {
   "cell_type": "markdown",
   "metadata": {},
   "source": [
    "The two top-scoring players, Jayson Tatum (JT) and Jaylen Brown (JB), have scoring distributions that are slightly skewed from normal:"
   ]
  },
  {
   "cell_type": "code",
   "execution_count": 45,
   "metadata": {},
   "outputs": [
    {
     "data": {
      "text/plain": [
       "30.09354"
      ]
     },
     "execution_count": 45,
     "metadata": {},
     "output_type": "execute_result"
    },
    {
     "data": {
      "image/png": "[encoded data removed]",
      "text/plain": [
       "<Figure size 640x480 with 1 Axes>"
      ]
     },
     "metadata": {},
     "output_type": "display_data"
    }
   ],
   "source": [
    "repeated_hist(JT, bins=range(60))"
   ]
  },
  {
   "cell_type": "code",
   "execution_count": 46,
   "metadata": {},
   "outputs": [
    {
     "data": {
      "text/plain": [
       "22.15592"
      ]
     },
     "execution_count": 46,
     "metadata": {},
     "output_type": "execute_result"
    },
    {
     "data": {
      "image/png": "[encoded data removed]",
      "text/plain": [
       "<Figure size 640x480 with 1 Axes>"
      ]
     },
     "metadata": {},
     "output_type": "display_data"
    }
   ],
   "source": [
    "repeated_hist(JB, bins=range(60))"
   ]
  },
  {
   "cell_type": "markdown",
   "metadata": {},
   "source": [
    "The next two players have bi-modal distributions; some games they score a lot, some games not:"
   ]
  },
  {
   "cell_type": "code",
   "execution_count": 47,
   "metadata": {},
   "outputs": [
    {
     "data": {
      "text/plain": [
       "14.0046"
      ]
     },
     "execution_count": 47,
     "metadata": {},
     "output_type": "execute_result"
    },
    {
     "data": {
      "image/png": "[encoded data removed]",
      "text/plain": [
       "<Figure size 640x480 with 1 Axes>"
      ]
     },
     "metadata": {},
     "output_type": "display_data"
    }
   ],
   "source": [
    "repeated_hist(TR, bins=range(60))"
   ]
  },
  {
   "cell_type": "code",
   "execution_count": 48,
   "metadata": {},
   "outputs": [
    {
     "data": {
      "text/plain": [
       "11.67054"
      ]
     },
     "execution_count": 48,
     "metadata": {},
     "output_type": "execute_result"
    },
    {
     "data": {
      "image/png": "[encoded data removed]",
      "text/plain": [
       "<Figure size 640x480 with 1 Axes>"
      ]
     },
     "metadata": {},
     "output_type": "display_data"
    }
   ],
   "source": [
    "repeated_hist(AH, bins=range(60))"
   ]
  },
  {
   "cell_type": "markdown",
   "metadata": {},
   "source": [
    "The fifth \"player\" (actually the sum of all the other players on the team, not really Aron Baymes, or they would have easily defeated the Cavaliers!) looks like this:"
   ]
  },
  {
   "cell_type": "code",
   "execution_count": 49,
   "metadata": {},
   "outputs": [
    {
     "data": {
      "text/plain": [
       "36.37785"
      ]
     },
     "execution_count": 49,
     "metadata": {},
     "output_type": "execute_result"
    },
    {
     "data": {
      "image/png": "[encoded data removed]",
      "text/plain": [
       "<Figure size 640x480 with 1 Axes>"
      ]
     },
     "metadata": {},
     "output_type": "display_data"
    }
   ],
   "source": [
    "repeated_hist(AB, bins=range(60))"
   ]
  },
  {
   "cell_type": "markdown",
   "metadata": {},
   "source": [
    "Go ahead, add more players to the Celtics, each with their own scoring distribution. Modify and use the below template:\n",
    "```python\n",
    "def XX(): return posint(gauss(15.1, 3) + 3 * triangular(1, 4, 13)) # 30.1\n",
    "```\n",
    "\n",
    "Add then in the cell below:"
   ]
  },
  {
   "cell_type": "code",
   "execution_count": null,
   "metadata": {},
   "outputs": [],
   "source": []
  },
  {
   "cell_type": "markdown",
   "metadata": {},
   "source": [
    "Now we define the team score to be the sum of the five players, and look at the distribution. Don't forge to add your own players!"
   ]
  },
  {
   "cell_type": "code",
   "execution_count": 50,
   "metadata": {},
   "outputs": [
    {
     "data": {
      "text/plain": [
       "114.33501"
      ]
     },
     "execution_count": 50,
     "metadata": {},
     "output_type": "execute_result"
    },
    {
     "data": {
      "image/png": "[encoded data removed]",
      "text/plain": [
       "<Figure size 640x480 with 1 Axes>"
      ]
     },
     "metadata": {},
     "output_type": "display_data"
    }
   ],
   "source": [
    "def GSW(): return JT() + JB() + TR() + AH() + AB()  # + ... add your own players!\n",
    "\n",
    "repeated_hist(GSW, bins=range(70, 160, 2))"
   ]
  },
  {
   "cell_type": "markdown",
   "metadata": {},
   "source": [
    "Sure enough, this looks very much like a **normal distribution**! \n",
    "\n",
    "The Central Limit Theorem holds, and that is why the statistics of NBA teams are so *predictable*. \n",
    "\n",
    "When you have a lot of data, you have little doubt, and the Data Science is *easy*. Deep Learning ANNs are very good at building hypersurfaces that match all the state variables of past outcomes. When you are asked to predict new outcomes based on a partial subset of state variables (independent variables), machines just project the lower dimensional hypersurface onto the higher dimensional hypersurface (stored in very compact form) and fill in the missing dimensions in order to predict the dependent variables. \n",
    "\n",
    "<br />\n",
    "<center>\n",
    "    <img src=\"ipynb.images/manifold.jpg\" width=300 />\n",
    "</center>\n",
    "\n",
    "\n",
    "We saw just a few days ago how machines can even predict non-linear functions if we give them tons of data, but when the data is not enough, they *cannot* predict!\n",
    "\n",
    "So what do we do when we *don't have enough data*? Do we just give up? We'll see next week how **Bayesian statistics** come to the rescue, *when we have to deal with doubt*."
   ]
  },
  {
   "cell_type": "markdown",
   "metadata": {},
   "source": [
    "# Conclusion¶\n",
    "We've built a framework for estimating probabilities that will come in handy when you are asked to build data models. We *started playing* with **Bayes' theorem**, a *pillar* of data science, and we started learning about typical Data Science interview questions, which you should *always* answer in python because you *will* run out of space on the whiteboard if you use squiggly brackets and other languages! \n",
    "\n",
    "Next week we move on to statistical modeling and inference. \n",
    "\n",
    "**Modeling** (one `l` or 2 `l`s? See [here](https://www.grammarly.com/blog/modeling-or-modelling/)) happens when data is scarce and precious and hard to obtain, for example in social sciences and settings where it is difficult to conduct large-scale controlled experiments. With small data it is important to quantify uncertainty and that’s precisely what Bayesian approaches are good at. **Inference** refers to how you learn parameters of your model (Markov Chain Monte Carlo, or MCMC, albeit computationally expensive, is one of the most important methods for statistical inference), which is especially important with Bayesian Machine Learning, where we can actually inquire with Machines why this or that action was undertaken.\n",
    "\n",
    "*Alexa, why did you lower the temperature in the bedroom?* **Because your wife told me that whenever you start snoring, John, colder tempreatures make you bundle up under the cover and you snore less**. \n",
    "\n",
    "<br />\n",
    "<center>\n",
    "    <img src=\"ipynb.images/echo.jpg\" width=200 />\n",
    "</center>\n",
    "\n",
    "Best advice for interviews: Be explicit about what the problem says, have the interviewer verify the working hypotheses, be methodical about defining the sample space, be careful in counting the number of outcomes in the numerator and denominator, and finally use Bayes' theorem (or 1 minus the negation) whenever possible because you will be doing calculations by hand on a whiteboard!\n",
    "\n",
    "<br />\n",
    "<center>\n",
    "    <img src=\"ipynb.images/jobinterview.jpg\" width=400 />\n",
    "</center>"
   ]
  },
  {
   "cell_type": "markdown",
   "metadata": {},
   "source": [
    "# Homework for next week: Introduction to Data Science for Sports\n",
    "\n",
    "You will exercise your knowledge of probabilities and write down logic with python.\n",
    "\n",
    "<br />\n",
    "<center>\n",
    "    <img src=\"ipynb.images/F1GP21.png\" width=900 />\n",
    "</center>\n",
    "\n",
    "**Question 1** (20 points) Here are the driver [standings](https://www.formula1.com/en/drivers.html) for the year 2021. What a year it was! Mercedes' Lewis Hamilton *lost* to Red Bull Racing's Max Verstappen!. Here are the last 3 F1 races for the season, that happened while we were learning data science! \n",
    "- Italy GP: Date: September 10\n",
    "- Russia GP: Date: September 24\n",
    "- Turkey GP: Date: October 10\n",
    "\n",
    "Suppose we are just starting the semester, right before the Italy Grand Prix (this coming weekend) and the Russia Grand Prix the weekend after, as you can see [schedule](https://www.formula1.com/en/racing/2021.html). \n",
    "\n",
    "The 2021 driver standings are already [tabulated](https://www.formula1.com/en/drivers.html) and Max beat Lewis! But let's ***assume*** these standings ***before the Italy GP***. \n",
    "\n",
    "Given these standings (please do not use team standings given on the same Web site, use ***driver standings***), what is the Probability Distribution for each F1 driver to win the Italy Grand Prix? \n",
    "\n",
    "What is the Probability Distribution for each F1 driver to win ***both*** the Italy and the Russia Grand Prix? \n",
    "\n",
    "What is the probability for Red Bull Racing to win ***both*** races? \n",
    "\n",
    "What is the probability for Red Bull Racing to win ***at least*** one race? \n",
    "\n",
    "What is the probability for Red Bull Racing to win ***all three*** races? \n",
    "\n",
    "Note that Red Bull Racing, and each other racing team, has ***two*** drivers per race. Use individual driver standings (not team standings), and use the same *final* [standings](https://www.formula1.com/en/results.html/2020/drivers.html) for both races.\n",
    "\n",
    "**Question 2** (30 points) If Red Bull Racing wins the first race, what is the probability that Red Bull Racing wins the next one? If Red Bull Racing wins at least one of these two races, what is the probability Red Bull Racing wins both races? How about Mercedes, McLaren, and Ferrari?\n",
    "\n",
    "**Question 3** (50 points) Red Bull Racing wins at least one of these two races on a ***rainy day***. What is the probability Red Bull Racing wins ***both*** races, assuming races can be held on either rainy, sunny, cloudy, snowy or foggy days? Also assume that rain, sun, clouds, snow, and fog are the *only possible weather conditions* on race tracks, and that they're *equiprobable*.\n",
    "\n",
    "You need to provide *proof* for your answers. `I think it's one in a million because Red Bull Racing ***sucks*** and I like Mercedes ***a lot more***` is not a good answer. Leverage the counting framework in this workbook!"
   ]
  },
  {
   "cell_type": "markdown",
   "metadata": {},
   "source": [
    "Hint: Use ItalyGrandPrix, or `IGP` to denote the Probability Distribution given by F1 driver wins. Write driver initials as keys and driver wins as values in a dictionary that you pass to our function `ProbDist`.."
   ]
  },
  {
   "cell_type": "code",
   "execution_count": 51,
   "metadata": {},
   "outputs": [
    {
     "data": {
      "text/plain": [
       "{'MV': 0.376978417266187, 'LH': 0.3683453237410072, 'VB': 0.25467625899280577}"
      ]
     },
     "execution_count": 51,
     "metadata": {},
     "output_type": "execute_result"
    }
   ],
   "source": [
    "IGP = ProbDist(\n",
    "    MV = 262,\n",
    "    LH = 256,\n",
    "    VB = 177)\n",
    "IGP"
   ]
  },
  {
   "cell_type": "markdown",
   "metadata": {},
   "source": [
    "# Homework hint\n",
    "\n",
    "**Conditional probabilities** involve ***prior*** conditions and ***new*** predicates, which is not the same as applying *one* condition on the *entire universe of outcomes*!\n",
    "\n",
    "A conditional probability is usually expressed as A | B (present/future condition A given past condition B). \n",
    "\n",
    "> Example: picking a yellow M&M from the '94 bag given that i've already picked yellow and green M&Ms from each bag. \n",
    "\n",
    "A conditional probability involves a **past event**, and a **present or future condition** (or predicate). So, computing a conditional probability where you specify *all* (past and present/future) conditions (or predicates) in the 1st argument of our p function is *not* possible: You need to first filter your entire universe of outcomes using the 2nd argument of our p function (to specify the past event by limiting the universe of all possible outcomes), and *then* specify the (future, or filter) condition using the 1st argument of our p function.\n",
    "\n",
    "# Reading assignment\n",
    "\n",
    "Please read Chapter 6 of *Mathematics for Machine Learning*, Deisenroth et al."
   ]
  },
  {
   "cell_type": "markdown",
   "metadata": {},
   "source": [
    "Defining the probability function and such_that function to filter out sample space"
   ]
  },
  {
   "cell_type": "code",
   "execution_count": 1,
   "metadata": {},
   "outputs": [],
   "source": [
    "from fractions import Fraction\n",
    "def p(event, space): \n",
    "    \"\"\"The probability of an event, given a sample space of equiprobable outcomes. \n",
    "    event: a collection of outcomes, or a predicate that is true of outcomes in the event. \n",
    "    space: a set of outcomes or a probability distribution of {outcome: frequency} pairs.\"\"\"\n",
    "    # branch on the type of the first argument\n",
    "    if is_predicate(event):\n",
    "        # transform the mapping (untangible) 'event' into the collection (tangible) 'event'\n",
    "        event = such_that(event, space)\n",
    "        \n",
    "    if isinstance(space, ProbDist):\n",
    "        # if space is a dictionary of distinct probabilities, where each item does not count as the same amount\n",
    "        # we need to be careful and count each amount according to what it's worth\n",
    "        return sum([space[o] for o in event])\n",
    "    else:\n",
    "        # space is not a dictionary but a collection, let's fall back to our original division\n",
    "        return Fraction(len(event & space), len(space))\n",
    "\n",
    "is_predicate = callable\n",
    "\n",
    "def such_that(predicate, space): \n",
    "    \"\"\"The outcomes in the sample pace for which the predicate is true.\n",
    "    If space is a set, return a subset {outcome,...} with outcomes where predicate(element) is true;\n",
    "    if space is a ProbDist, return a ProbDist {outcome: frequency,...} with outcomes where predicate(element) is true.\"\"\"\n",
    "    if isinstance(space, ProbDist):\n",
    "        return ProbDist({o:space[o] for o in space if predicate(o)})\n",
    "    else:\n",
    "        return {o for o in space if predicate(o)}"
   ]
  },
  {
   "cell_type": "markdown",
   "metadata": {},
   "source": [
    "Defining Probability Distribution class in python"
   ]
  },
  {
   "cell_type": "code",
   "execution_count": 2,
   "metadata": {},
   "outputs": [],
   "source": [
    "class ProbDist(dict):\n",
    "    \"\"\"A Probability Distribution; an {outcome: probability} mapping.\"\"\"\n",
    "    def __init__(self, mapping=(), **kwargs):\n",
    "        self.update(mapping, **kwargs)\n",
    "        # Make probabilities sum to 1.0; assert no negative probabilities\n",
    "        total = sum(self.values())\n",
    "        for outcome in self:\n",
    "            self[outcome] = self[outcome] / total\n",
    "            assert self[outcome] >= 0"
   ]
  },
  {
   "cell_type": "markdown",
   "metadata": {},
   "source": [
    "Defining the P_or and p_and function to compute probabilities for collection of events"
   ]
  },
  {
   "cell_type": "code",
   "execution_count": 3,
   "metadata": {},
   "outputs": [],
   "source": [
    "def p_or(event_collection, space): \n",
    "    \"\"\"The probability of an event collection union, given a sample space of equiprobable outcomes. \n",
    "    event: a collection of predicates that are true of outcomes in the event.\n",
    "    space: a probability distribution of {outcome: frequency} pairs.\"\"\"\n",
    "    \n",
    "    event_collection_u = set()\n",
    "    for event in event_collection:\n",
    "        # transform the mapping (untangible) 'event' into the collection (tangible) 'event'\n",
    "        event2 = such_that2(event, space)\n",
    "        event_collection_u.update(set(event2.keys()))\n",
    "    return sum([space[o] for o in event_collection_u])\n",
    "    \n",
    "def p_and(event_collection, space): \n",
    "    \"\"\"The probability of an event collection intersection, given a sample space of equiprobable outcomes. \n",
    "    event: a collection of predicates that are true of outcomes in the event. \n",
    "    space: a set of outcomes or a probability distribution of {outcome: frequency} pairs.\"\"\"\n",
    "   \n",
    "    lst_of_sets = []\n",
    "    for e in event_collection:\n",
    "        lst_of_sets.append({o for o in list(space.keys()) if e(o)})\n",
    "    # Call the intersection() method on the first set object.\n",
    "    # Pass all sets as arguments into the intersection() method by unpacking the list with the asterisk operator *list.\n",
    "    #print(lst_of_sets[0].intersection(*lst_of_sets))\n",
    "    return sum([space[o] for o in lst_of_sets[0].intersection(*lst_of_sets)])\n",
    "\n",
    "is_predicate = callable\n",
    "\n",
    "def such_that2(predicate, space): \n",
    "    \"\"\"The outcomes in the sample pace for which the predicate is true.\n",
    "    Space is a ProbDist, so return a ProbDist {outcome: frequency,...} with outcomes where predicate(element) is true.\"\"\"\n",
    "    return ProbDist({o:space[o] for o in space if predicate(o)})"
   ]
  },
  {
   "cell_type": "markdown",
   "metadata": {},
   "source": [
    "### Defining Probability Distribution based on current driver standings for Italy and Russian Grand Prix\n",
    "What is the Probability Distribution for each F1 driver to win both the Italy and the Russia Grand Prix?"
   ]
  },
  {
   "cell_type": "code",
   "execution_count": 4,
   "metadata": {},
   "outputs": [
    {
     "data": {
      "text/plain": [
       "{'MV': 0.16972205795387343,\n",
       " 'LH': 0.16262566528681255,\n",
       " 'VB': 0.10940272028385571,\n",
       " 'SP': 0.08870490833826139,\n",
       " 'LN': 0.08811354228267297,\n",
       " 'CL': 0.07569485511531639,\n",
       " 'CS': 0.07214665878178593,\n",
       " 'DR': 0.06209343583678297,\n",
       " 'PG': 0.04376108811354228,\n",
       " 'FA': 0.03429923122412774,\n",
       " 'EO': 0.027202838557066823,\n",
       " 'SV': 0.021289178001182733,\n",
       " 'LS': 0.01537551744529864,\n",
       " 'YT': 0.011827321111768185,\n",
       " 'GR': 0.009461856889414548,\n",
       " 'NL': 0.004139562389118865,\n",
       " 'KR': 0.0035481963335304554,\n",
       " 'AG': 0.0005913660555884093,\n",
       " 'MS': 0.0,\n",
       " 'RK': 0.0,\n",
       " 'NM': 0.0}"
      ]
     },
     "execution_count": 4,
     "metadata": {},
     "output_type": "execute_result"
    }
   ],
   "source": [
    "IGP = ProbDist(MV = 287, LH = 275, VB = 185, SP = 150, LN = 149, CL = 128, CS = 122, DR = 105, PG = 74, FA = 58, EO = 46,\n",
    "               SV = 36, LS = 26, YT = 20, GR = 16, NL = 7, KR = 6, AG = 1, MS = 0, RK = 0, NM = 0)\n",
    "IGP"
   ]
  },
  {
   "cell_type": "code",
   "execution_count": 5,
   "metadata": {},
   "outputs": [
    {
     "data": {
      "text/plain": [
       "{'MV': 0.16972205795387343,\n",
       " 'LH': 0.16262566528681255,\n",
       " 'VB': 0.10940272028385571,\n",
       " 'SP': 0.08870490833826139,\n",
       " 'LN': 0.08811354228267297,\n",
       " 'CL': 0.07569485511531639,\n",
       " 'CS': 0.07214665878178593,\n",
       " 'DR': 0.06209343583678297,\n",
       " 'PG': 0.04376108811354228,\n",
       " 'FA': 0.03429923122412774,\n",
       " 'EO': 0.027202838557066823,\n",
       " 'SV': 0.021289178001182733,\n",
       " 'LS': 0.01537551744529864,\n",
       " 'YT': 0.011827321111768185,\n",
       " 'GR': 0.009461856889414548,\n",
       " 'NL': 0.004139562389118865,\n",
       " 'KR': 0.0035481963335304554,\n",
       " 'AG': 0.0005913660555884093,\n",
       " 'MS': 0.0,\n",
       " 'RK': 0.0,\n",
       " 'NM': 0.0}"
      ]
     },
     "execution_count": 5,
     "metadata": {},
     "output_type": "execute_result"
    }
   ],
   "source": [
    "RGP = ProbDist(MV = 287, LH = 275, VB = 185, SP = 150, LN = 149, CL = 128, CS = 122, DR = 105, PG = 74, FA = 58, EO = 46,\n",
    "               SV = 36, LS = 26, YT = 20, GR = 16, NL = 7, KR = 6, AG = 1, MS = 0, RK = 0, NM = 0)\n",
    "RGP"
   ]
  },
  {
   "cell_type": "code",
   "execution_count": 6,
   "metadata": {},
   "outputs": [
    {
     "data": {
      "text/plain": [
       "{'MV': 0.16972205795387343,\n",
       " 'LH': 0.16262566528681255,\n",
       " 'VB': 0.10940272028385571,\n",
       " 'SP': 0.08870490833826139,\n",
       " 'LN': 0.08811354228267297,\n",
       " 'CL': 0.07569485511531639,\n",
       " 'CS': 0.07214665878178593,\n",
       " 'DR': 0.06209343583678297,\n",
       " 'PG': 0.04376108811354228,\n",
       " 'FA': 0.03429923122412774,\n",
       " 'EO': 0.027202838557066823,\n",
       " 'SV': 0.021289178001182733,\n",
       " 'LS': 0.01537551744529864,\n",
       " 'YT': 0.011827321111768185,\n",
       " 'GR': 0.009461856889414548,\n",
       " 'NL': 0.004139562389118865,\n",
       " 'KR': 0.0035481963335304554,\n",
       " 'AG': 0.0005913660555884093,\n",
       " 'MS': 0.0,\n",
       " 'RK': 0.0,\n",
       " 'NM': 0.0}"
      ]
     },
     "execution_count": 6,
     "metadata": {},
     "output_type": "execute_result"
    }
   ],
   "source": [
    "TGP = ProbDist(MV = 287, LH = 275, VB = 185, SP = 150, LN = 149, CL = 128, CS = 122, DR = 105, PG = 74, FA = 58, EO = 46,\n",
    "               SV = 36, LS = 26, YT = 20, GR = 16, NL = 7, KR = 6, AG = 1, MS = 0, RK = 0, NM = 0)\n",
    "TGP"
   ]
  },
  {
   "cell_type": "markdown",
   "metadata": {},
   "source": [
    "Joining the Probability Distribution for both IGP and RGP to calculate the total sample space for possibilities of 2 races."
   ]
  },
  {
   "cell_type": "code",
   "execution_count": 7,
   "metadata": {},
   "outputs": [
    {
     "data": {
      "text/plain": [
       "{'MV MV': 0.028805576956097978,\n",
       " 'MV LH': 0.02760116258859563,\n",
       " 'MV VB': 0.018568054832327967,\n",
       " 'MV SP': 0.015055179593779434,\n",
       " 'MV LN': 0.014954811729820904,\n",
       " 'MV CL': 0.012847086586691784,\n",
       " 'MV CS': 0.012244879402940606,\n",
       " 'MV DR': 0.010538625715645603,\n",
       " 'MV PG': 0.007427221932931187,\n",
       " 'MV FA': 0.005821336109594714,\n",
       " 'MV EO': 0.004616921742092359,\n",
       " 'MV SV': 0.003613243102507064,\n",
       " 'MV LS': 0.002609564462921768,\n",
       " 'MV YT': 0.002007357279170591,\n",
       " 'MV GR': 0.001605885823336473,\n",
       " 'MV NL': 0.0007025750477097069,\n",
       " 'MV KR': 0.0006022071837511773,\n",
       " 'MV AG': 0.00010036786395852956,\n",
       " 'MV MS': 0.0,\n",
       " 'MV RK': 0.0,\n",
       " 'MV NM': 0.0,\n",
       " 'LH MV': 0.02760116258859563,\n",
       " 'LH LH': 0.026447107009978394,\n",
       " 'LH VB': 0.017791690170349102,\n",
       " 'LH SP': 0.014425694732715488,\n",
       " 'LH LN': 0.014329523434497383,\n",
       " 'LH CL': 0.012309926171917217,\n",
       " 'LH CS': 0.011732898382608598,\n",
       " 'LH DR': 0.01009798631290084,\n",
       " 'LH PG': 0.00711667606813964,\n",
       " 'LH FA': 0.0055779352966499884,\n",
       " 'LH EO': 0.004423879718032749,\n",
       " 'LH SV': 0.0034621667358517173,\n",
       " 'LH LS': 0.002500453753670684,\n",
       " 'LH YT': 0.001923425964362065,\n",
       " 'LH GR': 0.0015387407714896521,\n",
       " 'LH NL': 0.0006731990875267227,\n",
       " 'LH KR': 0.0005770277893086195,\n",
       " 'LH AG': 9.617129821810326e-05,\n",
       " 'LH MS': 0.0,\n",
       " 'LH RK': 0.0,\n",
       " 'LH NM': 0.0,\n",
       " 'VB MV': 0.018568054832327967,\n",
       " 'VB LH': 0.017791690170349102,\n",
       " 'VB VB': 0.011968955205507578,\n",
       " 'VB SP': 0.009704558274735873,\n",
       " 'VB LN': 0.009639861219570965,\n",
       " 'VB CL': 0.008281223061107946,\n",
       " 'VB CS': 0.00789304073011851,\n",
       " 'VB DR': 0.006793190792315111,\n",
       " 'VB PG': 0.00478758208220303,\n",
       " 'VB FA': 0.0037524291995645375,\n",
       " 'VB EO': 0.0029760645375856674,\n",
       " 'VB SV': 0.0023290939859366097,\n",
       " 'VB LS': 0.0016821234342875512,\n",
       " 'VB YT': 0.0012939411032981162,\n",
       " 'VB GR': 0.0010351528826384932,\n",
       " 'VB NL': 0.00045287938615434076,\n",
       " 'VB KR': 0.0003881823309894349,\n",
       " 'VB AG': 6.469705516490583e-05,\n",
       " 'VB MS': 0.0,\n",
       " 'VB RK': 0.0,\n",
       " 'VB NM': 0.0,\n",
       " 'SP MV': 0.015055179593779434,\n",
       " 'SP LH': 0.014425694732715488,\n",
       " 'SP VB': 0.009704558274735873,\n",
       " 'SP SP': 0.007868560763299356,\n",
       " 'SP LN': 0.007816103691544026,\n",
       " 'SP CL': 0.0067145051846821185,\n",
       " 'SP CS': 0.006399762754150144,\n",
       " 'SP DR': 0.0055079925343095495,\n",
       " 'SP PG': 0.0038818233098943493,\n",
       " 'SP FA': 0.003042510161809085,\n",
       " 'SP EO': 0.002413025300745136,\n",
       " 'SP SV': 0.0018884545831918456,\n",
       " 'SP LS': 0.001363883865638555,\n",
       " 'SP YT': 0.001049141435106581,\n",
       " 'SP GR': 0.0008393131480852648,\n",
       " 'SP NL': 0.00036719950228730335,\n",
       " 'SP KR': 0.00031474243053197424,\n",
       " 'SP AG': 5.245707175532905e-05,\n",
       " 'SP MS': 0.0,\n",
       " 'SP RK': 0.0,\n",
       " 'SP NM': 0.0,\n",
       " 'LN MV': 0.014954811729820904,\n",
       " 'LN LH': 0.014329523434497383,\n",
       " 'LN VB': 0.009639861219570965,\n",
       " 'LN SP': 0.007816103691544026,\n",
       " 'LN LN': 0.0077639963336003995,\n",
       " 'LN CL': 0.0066697418167842365,\n",
       " 'LN CS': 0.006357097669122475,\n",
       " 'LN DR': 0.0054712725840808185,\n",
       " 'LN PG': 0.0038559444878283862,\n",
       " 'LN FA': 0.003022226760730357,\n",
       " 'LN EO': 0.0023969384654068345,\n",
       " 'LN SV': 0.0018758648859705665,\n",
       " 'LN LS': 0.0013547913065342979,\n",
       " 'LN YT': 0.0010421471588725369,\n",
       " 'LN GR': 0.0008337177270980296,\n",
       " 'LN NL': 0.0003647515056053879,\n",
       " 'LN KR': 0.00031264414766176107,\n",
       " 'LN AG': 5.210735794362685e-05,\n",
       " 'LN MS': 0.0,\n",
       " 'LN RK': 0.0,\n",
       " 'LN NM': 0.0,\n",
       " 'CL MV': 0.012847086586691784,\n",
       " 'CL LH': 0.012309926171917217,\n",
       " 'CL VB': 0.008281223061107946,\n",
       " 'CL SP': 0.0067145051846821185,\n",
       " 'CL LN': 0.0066697418167842365,\n",
       " 'CL CL': 0.00572971109092874,\n",
       " 'CL CS': 0.005461130883541455,\n",
       " 'CL DR': 0.004700153629277482,\n",
       " 'CL PG': 0.003312489224443178,\n",
       " 'CL FA': 0.0025962753380770853,\n",
       " 'CL EO': 0.002059114923302516,\n",
       " 'CL SV': 0.0016114812443237083,\n",
       " 'CL LS': 0.0011638475653449004,\n",
       " 'CL YT': 0.0008952673579576157,\n",
       " 'CL GR': 0.0007162138863660926,\n",
       " 'CL NL': 0.0003133435752851655,\n",
       " 'CL KR': 0.0002685802073872847,\n",
       " 'CL AG': 4.4763367897880784e-05,\n",
       " 'CL MS': 0.0,\n",
       " 'CL RK': 0.0,\n",
       " 'CL NM': 0.0,\n",
       " 'CS MV': 0.012244879402940606,\n",
       " 'CS LH': 0.011732898382608598,\n",
       " 'CS VB': 0.00789304073011851,\n",
       " 'CS SP': 0.006399762754150144,\n",
       " 'CS LN': 0.006357097669122475,\n",
       " 'CS CL': 0.005461130883541455,\n",
       " 'CS CS': 0.00520514037337545,\n",
       " 'CS DR': 0.0044798339279051,\n",
       " 'CS PG': 0.003157216292047404,\n",
       " 'CS FA': 0.002474574931604722,\n",
       " 'CS EO': 0.0019625939112727104,\n",
       " 'CS SV': 0.0015359430609960345,\n",
       " 'CS LS': 0.0011092922107193582,\n",
       " 'CS YT': 0.0008533017005533525,\n",
       " 'CS GR': 0.0006826413604426819,\n",
       " 'CS NL': 0.00029865559519367337,\n",
       " 'CS KR': 0.00025599051016600573,\n",
       " 'CS AG': 4.266508502766762e-05,\n",
       " 'CS MS': 0.0,\n",
       " 'CS RK': 0.0,\n",
       " 'CS NM': 0.0,\n",
       " 'DR MV': 0.010538625715645603,\n",
       " 'DR LH': 0.01009798631290084,\n",
       " 'DR VB': 0.006793190792315111,\n",
       " 'DR SP': 0.0055079925343095495,\n",
       " 'DR LN': 0.0054712725840808185,\n",
       " 'DR CL': 0.004700153629277482,\n",
       " 'DR CS': 0.0044798339279051,\n",
       " 'DR DR': 0.003855594774016685,\n",
       " 'DR PG': 0.0027172763169260442,\n",
       " 'DR FA': 0.0021297571132663593,\n",
       " 'DR EO': 0.001689117710521595,\n",
       " 'DR SV': 0.0013219182082342918,\n",
       " 'DR LS': 0.0009547187059469886,\n",
       " 'DR YT': 0.0007343990045746067,\n",
       " 'DR GR': 0.0005875192036596853,\n",
       " 'DR NL': 0.00025703965160111234,\n",
       " 'DR KR': 0.00022031970137238198,\n",
       " 'DR AG': 3.671995022873033e-05,\n",
       " 'DR MS': 0.0,\n",
       " 'DR RK': 0.0,\n",
       " 'DR NM': 0.0,\n",
       " 'PG MV': 0.007427221932931187,\n",
       " 'PG LH': 0.00711667606813964,\n",
       " 'PG VB': 0.00478758208220303,\n",
       " 'PG SP': 0.0038818233098943493,\n",
       " 'PG LN': 0.0038559444878283862,\n",
       " 'PG CL': 0.003312489224443178,\n",
       " 'PG CS': 0.003157216292047404,\n",
       " 'PG DR': 0.0027172763169260442,\n",
       " 'PG PG': 0.0019150328328812122,\n",
       " 'PG FA': 0.001500971679825815,\n",
       " 'PG EO': 0.0011904258150342668,\n",
       " 'PG SV': 0.0009316375943746438,\n",
       " 'PG LS': 0.0006728493737150204,\n",
       " 'PG YT': 0.0005175764413192465,\n",
       " 'PG GR': 0.00041406115305539726,\n",
       " 'PG NL': 0.00018115175446173628,\n",
       " 'PG KR': 0.00015527293239577395,\n",
       " 'PG AG': 2.587882206596233e-05,\n",
       " 'PG MS': 0.0,\n",
       " 'PG RK': 0.0,\n",
       " 'PG NM': 0.0,\n",
       " 'FA MV': 0.005821336109594714,\n",
       " 'FA LH': 0.0055779352966499884,\n",
       " 'FA VB': 0.0037524291995645375,\n",
       " 'FA SP': 0.003042510161809085,\n",
       " 'FA LN': 0.003022226760730357,\n",
       " 'FA CL': 0.0025962753380770853,\n",
       " 'FA CS': 0.002474574931604722,\n",
       " 'FA DR': 0.0021297571132663593,\n",
       " 'FA PG': 0.001500971679825815,\n",
       " 'FA FA': 0.0011764372625661793,\n",
       " 'FA EO': 0.0009330364496214525,\n",
       " 'FA SV': 0.0007302024388341803,\n",
       " 'FA LS': 0.000527368428046908,\n",
       " 'FA YT': 0.0004056680215745446,\n",
       " 'FA GR': 0.00032453441725963566,\n",
       " 'FA NL': 0.00014198380755109063,\n",
       " 'FA KR': 0.00012170040647236338,\n",
       " 'FA AG': 2.028340107872723e-05,\n",
       " 'FA MS': 0.0,\n",
       " 'FA RK': 0.0,\n",
       " 'FA NM': 0.0,\n",
       " 'EO MV': 0.004616921742092359,\n",
       " 'EO LH': 0.004423879718032749,\n",
       " 'EO VB': 0.0029760645375856674,\n",
       " 'EO SP': 0.002413025300745136,\n",
       " 'EO LN': 0.0023969384654068345,\n",
       " 'EO CL': 0.002059114923302516,\n",
       " 'EO CS': 0.0019625939112727104,\n",
       " 'EO DR': 0.001689117710521595,\n",
       " 'EO PG': 0.0011904258150342668,\n",
       " 'EO FA': 0.0009330364496214525,\n",
       " 'EO EO': 0.0007399944255618416,\n",
       " 'EO SV': 0.0005791260721788326,\n",
       " 'EO LS': 0.00041825771879582354,\n",
       " 'EO YT': 0.0003217367067660181,\n",
       " 'EO GR': 0.0002573893654128145,\n",
       " 'EO NL': 0.00011260784736810635,\n",
       " 'EO KR': 9.652101202980544e-05,\n",
       " 'EO AG': 1.6086835338300906e-05,\n",
       " 'EO MS': 0.0,\n",
       " 'EO RK': 0.0,\n",
       " 'EO NM': 0.0,\n",
       " 'SV MV': 0.003613243102507064,\n",
       " 'SV LH': 0.0034621667358517173,\n",
       " 'SV VB': 0.0023290939859366097,\n",
       " 'SV SP': 0.0018884545831918456,\n",
       " 'SV LN': 0.0018758648859705665,\n",
       " 'SV CL': 0.0016114812443237083,\n",
       " 'SV CS': 0.0015359430609960345,\n",
       " 'SV DR': 0.0013219182082342918,\n",
       " 'SV PG': 0.0009316375943746438,\n",
       " 'SV FA': 0.0007302024388341803,\n",
       " 'SV EO': 0.0005791260721788326,\n",
       " 'SV SV': 0.00045322909996604296,\n",
       " 'SV LS': 0.0003273321277532532,\n",
       " 'SV YT': 0.0002517939444255794,\n",
       " 'SV GR': 0.00020143515554046354,\n",
       " 'SV NL': 8.81278805489528e-05,\n",
       " 'SV KR': 7.553818332767382e-05,\n",
       " 'SV AG': 1.2589697221278971e-05,\n",
       " 'SV MS': 0.0,\n",
       " 'SV RK': 0.0,\n",
       " 'SV NM': 0.0,\n",
       " 'LS MV': 0.002609564462921768,\n",
       " 'LS LH': 0.002500453753670684,\n",
       " 'LS VB': 0.0016821234342875512,\n",
       " 'LS SP': 0.001363883865638555,\n",
       " 'LS LN': 0.0013547913065342979,\n",
       " 'LS CL': 0.0011638475653449004,\n",
       " 'LS CS': 0.0011092922107193582,\n",
       " 'LS DR': 0.0009547187059469886,\n",
       " 'LS PG': 0.0006728493737150204,\n",
       " 'LS FA': 0.000527368428046908,\n",
       " 'LS EO': 0.00041825771879582354,\n",
       " 'LS SV': 0.0003273321277532532,\n",
       " 'LS LS': 0.00023640653671068288,\n",
       " 'LS YT': 0.00018185118208514066,\n",
       " 'LS GR': 0.00014548094566811255,\n",
       " 'LS NL': 6.364791372979924e-05,\n",
       " 'LS KR': 5.4555354625542204e-05,\n",
       " 'LS AG': 9.092559104257035e-06,\n",
       " 'LS MS': 0.0,\n",
       " 'LS RK': 0.0,\n",
       " 'LS NM': 0.0,\n",
       " 'YT MV': 0.002007357279170591,\n",
       " 'YT LH': 0.001923425964362065,\n",
       " 'YT VB': 0.0012939411032981162,\n",
       " 'YT SP': 0.001049141435106581,\n",
       " 'YT LN': 0.0010421471588725369,\n",
       " 'YT CL': 0.0008952673579576157,\n",
       " 'YT CS': 0.0008533017005533525,\n",
       " 'YT DR': 0.0007343990045746067,\n",
       " 'YT PG': 0.0005175764413192465,\n",
       " 'YT FA': 0.0004056680215745446,\n",
       " 'YT EO': 0.0003217367067660181,\n",
       " 'YT SV': 0.0002517939444255794,\n",
       " 'YT LS': 0.00018185118208514066,\n",
       " 'YT YT': 0.00013988552468087743,\n",
       " 'YT GR': 0.00011190841974470197,\n",
       " 'YT NL': 4.895993363830711e-05,\n",
       " 'YT KR': 4.196565740426323e-05,\n",
       " 'YT AG': 6.994276234043873e-06,\n",
       " 'YT MS': 0.0,\n",
       " 'YT RK': 0.0,\n",
       " 'YT NM': 0.0,\n",
       " 'GR MV': 0.001605885823336473,\n",
       " 'GR LH': 0.0015387407714896521,\n",
       " 'GR VB': 0.0010351528826384932,\n",
       " 'GR SP': 0.0008393131480852648,\n",
       " 'GR LN': 0.0008337177270980296,\n",
       " 'GR CL': 0.0007162138863660926,\n",
       " 'GR CS': 0.0006826413604426819,\n",
       " 'GR DR': 0.0005875192036596853,\n",
       " 'GR PG': 0.00041406115305539726,\n",
       " 'GR FA': 0.00032453441725963566,\n",
       " 'GR EO': 0.0002573893654128145,\n",
       " 'GR SV': 0.00020143515554046354,\n",
       " 'GR LS': 0.00014548094566811255,\n",
       " 'GR YT': 0.00011190841974470197,\n",
       " 'GR GR': 8.952673579576157e-05,\n",
       " 'GR NL': 3.9167946910645685e-05,\n",
       " 'GR KR': 3.3572525923410585e-05,\n",
       " 'GR AG': 5.595420987235098e-06,\n",
       " 'GR MS': 0.0,\n",
       " 'GR RK': 0.0,\n",
       " 'GR NM': 0.0,\n",
       " 'NL MV': 0.0007025750477097069,\n",
       " 'NL LH': 0.0006731990875267227,\n",
       " 'NL VB': 0.00045287938615434076,\n",
       " 'NL SP': 0.00036719950228730335,\n",
       " 'NL LN': 0.0003647515056053879,\n",
       " 'NL CL': 0.0003133435752851655,\n",
       " 'NL CS': 0.00029865559519367337,\n",
       " 'NL DR': 0.00025703965160111234,\n",
       " 'NL PG': 0.00018115175446173628,\n",
       " 'NL FA': 0.00014198380755109063,\n",
       " 'NL EO': 0.00011260784736810635,\n",
       " 'NL SV': 8.81278805489528e-05,\n",
       " 'NL LS': 6.364791372979924e-05,\n",
       " 'NL YT': 4.895993363830711e-05,\n",
       " 'NL GR': 3.9167946910645685e-05,\n",
       " 'NL NL': 1.713597677340749e-05,\n",
       " 'NL KR': 1.4687980091492133e-05,\n",
       " 'NL AG': 2.4479966819153553e-06,\n",
       " 'NL MS': 0.0,\n",
       " 'NL RK': 0.0,\n",
       " 'NL NM': 0.0,\n",
       " 'KR MV': 0.0006022071837511773,\n",
       " 'KR LH': 0.0005770277893086195,\n",
       " 'KR VB': 0.0003881823309894349,\n",
       " 'KR SP': 0.00031474243053197424,\n",
       " 'KR LN': 0.00031264414766176107,\n",
       " 'KR CL': 0.0002685802073872847,\n",
       " 'KR CS': 0.00025599051016600573,\n",
       " 'KR DR': 0.00022031970137238198,\n",
       " 'KR PG': 0.00015527293239577395,\n",
       " 'KR FA': 0.00012170040647236338,\n",
       " 'KR EO': 9.652101202980544e-05,\n",
       " 'KR SV': 7.553818332767382e-05,\n",
       " 'KR LS': 5.4555354625542204e-05,\n",
       " 'KR YT': 4.196565740426323e-05,\n",
       " 'KR GR': 3.3572525923410585e-05,\n",
       " 'KR NL': 1.4687980091492133e-05,\n",
       " 'KR KR': 1.258969722127897e-05,\n",
       " 'KR AG': 2.0982828702131616e-06,\n",
       " 'KR MS': 0.0,\n",
       " 'KR RK': 0.0,\n",
       " 'KR NM': 0.0,\n",
       " 'AG MV': 0.00010036786395852956,\n",
       " 'AG LH': 9.617129821810326e-05,\n",
       " 'AG VB': 6.469705516490583e-05,\n",
       " 'AG SP': 5.245707175532905e-05,\n",
       " 'AG LN': 5.210735794362685e-05,\n",
       " 'AG CL': 4.4763367897880784e-05,\n",
       " 'AG CS': 4.266508502766762e-05,\n",
       " 'AG DR': 3.671995022873033e-05,\n",
       " 'AG PG': 2.587882206596233e-05,\n",
       " 'AG FA': 2.028340107872723e-05,\n",
       " 'AG EO': 1.6086835338300906e-05,\n",
       " 'AG SV': 1.2589697221278971e-05,\n",
       " 'AG LS': 9.092559104257035e-06,\n",
       " 'AG YT': 6.994276234043873e-06,\n",
       " 'AG GR': 5.595420987235098e-06,\n",
       " 'AG NL': 2.4479966819153553e-06,\n",
       " 'AG KR': 2.0982828702131616e-06,\n",
       " 'AG AG': 3.4971381170219363e-07,\n",
       " 'AG MS': 0.0,\n",
       " 'AG RK': 0.0,\n",
       " 'AG NM': 0.0,\n",
       " 'MS MV': 0.0,\n",
       " 'MS LH': 0.0,\n",
       " 'MS VB': 0.0,\n",
       " 'MS SP': 0.0,\n",
       " 'MS LN': 0.0,\n",
       " 'MS CL': 0.0,\n",
       " 'MS CS': 0.0,\n",
       " 'MS DR': 0.0,\n",
       " 'MS PG': 0.0,\n",
       " 'MS FA': 0.0,\n",
       " 'MS EO': 0.0,\n",
       " 'MS SV': 0.0,\n",
       " 'MS LS': 0.0,\n",
       " 'MS YT': 0.0,\n",
       " 'MS GR': 0.0,\n",
       " 'MS NL': 0.0,\n",
       " 'MS KR': 0.0,\n",
       " 'MS AG': 0.0,\n",
       " 'MS MS': 0.0,\n",
       " 'MS RK': 0.0,\n",
       " 'MS NM': 0.0,\n",
       " 'RK MV': 0.0,\n",
       " 'RK LH': 0.0,\n",
       " 'RK VB': 0.0,\n",
       " 'RK SP': 0.0,\n",
       " 'RK LN': 0.0,\n",
       " 'RK CL': 0.0,\n",
       " 'RK CS': 0.0,\n",
       " 'RK DR': 0.0,\n",
       " 'RK PG': 0.0,\n",
       " 'RK FA': 0.0,\n",
       " 'RK EO': 0.0,\n",
       " 'RK SV': 0.0,\n",
       " 'RK LS': 0.0,\n",
       " 'RK YT': 0.0,\n",
       " 'RK GR': 0.0,\n",
       " 'RK NL': 0.0,\n",
       " 'RK KR': 0.0,\n",
       " 'RK AG': 0.0,\n",
       " 'RK MS': 0.0,\n",
       " 'RK RK': 0.0,\n",
       " 'RK NM': 0.0,\n",
       " 'NM MV': 0.0,\n",
       " 'NM LH': 0.0,\n",
       " 'NM VB': 0.0,\n",
       " 'NM SP': 0.0,\n",
       " 'NM LN': 0.0,\n",
       " 'NM CL': 0.0,\n",
       " 'NM CS': 0.0,\n",
       " 'NM DR': 0.0,\n",
       " 'NM PG': 0.0,\n",
       " 'NM FA': 0.0,\n",
       " 'NM EO': 0.0,\n",
       " 'NM SV': 0.0,\n",
       " 'NM LS': 0.0,\n",
       " 'NM YT': 0.0,\n",
       " 'NM GR': 0.0,\n",
       " 'NM NL': 0.0,\n",
       " 'NM KR': 0.0,\n",
       " 'NM AG': 0.0,\n",
       " 'NM MS': 0.0,\n",
       " 'NM RK': 0.0,\n",
       " 'NM NM': 0.0}"
      ]
     },
     "execution_count": 7,
     "metadata": {},
     "output_type": "execute_result"
    }
   ],
   "source": [
    "def joint(A, B, sep=''):\n",
    "    return ProbDist({a + sep + b: A[a] * B[b]\n",
    "                    for a in A\n",
    "                    for b in B})\n",
    "\n",
    "Winner_for_both_race = joint(IGP, RGP, ' ')\n",
    "Winner_for_both_race"
   ]
  },
  {
   "cell_type": "markdown",
   "metadata": {},
   "source": [
    "What is the Probability Distribution for each F1 driver to win both the Italy and the Russia Grand Prix?"
   ]
  },
  {
   "cell_type": "code",
   "execution_count": 8,
   "metadata": {},
   "outputs": [
    {
     "data": {
      "text/plain": [
       "{'MV MV': 0.028805576956097978,\n",
       " 'LH LH': 0.026447107009978394,\n",
       " 'VB VB': 0.011968955205507578,\n",
       " 'SP SP': 0.007868560763299356,\n",
       " 'LN LN': 0.0077639963336003995,\n",
       " 'CL CL': 0.00572971109092874,\n",
       " 'CS CS': 0.00520514037337545,\n",
       " 'DR DR': 0.003855594774016685,\n",
       " 'PG PG': 0.0019150328328812122,\n",
       " 'FA FA': 0.0011764372625661793,\n",
       " 'EO EO': 0.0007399944255618416,\n",
       " 'SV SV': 0.00045322909996604296,\n",
       " 'LS LS': 0.00023640653671068288,\n",
       " 'YT YT': 0.00013988552468087743,\n",
       " 'GR GR': 8.952673579576157e-05,\n",
       " 'NL NL': 1.713597677340749e-05,\n",
       " 'KR KR': 1.258969722127897e-05,\n",
       " 'AG AG': 3.4971381170219363e-07,\n",
       " 'MS MS': 0.0,\n",
       " 'RK RK': 0.0,\n",
       " 'NM NM': 0.0}"
      ]
     },
     "execution_count": 8,
     "metadata": {},
     "output_type": "execute_result"
    }
   ],
   "source": [
    "driver_winning_both_race = {o:Winner_for_both_race[o] for o in Winner_for_both_race if o[0] == o[3] and o[1] == o[4]}\n",
    "driver_winning_both_race\n",
    "#def driver_winning_both_race(outcome): return outcome[0] == outcome[3] and outcome[1] == outcome[4]\n",
    "#p(driver_winning_both_race, Winner_for_both_race)"
   ]
  },
  {
   "cell_type": "markdown",
   "metadata": {},
   "source": [
    "What is the probability for Red Bull Racing to win both races?\n",
    "Mapping the individual Driver Standings with Team Standings and calculating the probability distribution for each team"
   ]
  },
  {
   "cell_type": "code",
   "execution_count": 10,
   "metadata": {},
   "outputs": [
    {
     "data": {
      "text/plain": [
       "0.06678449690695619"
      ]
     },
     "execution_count": 10,
     "metadata": {},
     "output_type": "execute_result"
    }
   ],
   "source": [
    "def Red_Bull_Racing_wins_both(outcome): return 'MV MV' in outcome or 'SP SP' in outcome or 'MV SP' in outcome or 'SP MV' in outcome\n",
    "p(Red_Bull_Racing_wins_both,Winner_for_both_race)"
   ]
  },
  {
   "cell_type": "markdown",
   "metadata": {},
   "source": [
    "What is the probability for Red Bull Racing to win at least one race?"
   ]
  },
  {
   "cell_type": "code",
   "execution_count": 11,
   "metadata": {},
   "outputs": [
    {
     "data": {
      "text/plain": [
       "0.45006943567731367"
      ]
     },
     "execution_count": 11,
     "metadata": {},
     "output_type": "execute_result"
    }
   ],
   "source": [
    "def Red_Bull_Racing_wins_once(outcome): return 'MV' in outcome or 'SP' in outcome\n",
    "such_that(Red_Bull_Racing_wins_once,Winner_for_both_race)\n",
    "p(Red_Bull_Racing_wins_once,Winner_for_both_race)"
   ]
  },
  {
   "cell_type": "markdown",
   "metadata": {},
   "source": [
    "What is the probability for Red Bull Racing to win all three races? We redefine our joint function to calculate the sample space for 3 races!!\n",
    "\n"
   ]
  },
  {
   "cell_type": "code",
   "execution_count": 12,
   "metadata": {},
   "outputs": [
    {
     "data": {
      "text/plain": [
       "{'MV MV MV': 0.004888941801537611,\n",
       " 'MV MV LH': 0.0046845261164559,\n",
       " 'MV MV VB': 0.0031514084783430597,\n",
       " 'MV MV SP': 0.0025551960635214,\n",
       " 'MV MV LN': 0.0025381614230979236,\n",
       " 'MV MV CL': 0.002180433974204928,\n",
       " 'MV MV CS': 0.002078226131664072,\n",
       " 'MV MV DR': 0.00178863724446498,\n",
       " 'MV MV PG': 0.0012605633913372238,\n",
       " 'MV MV FA': 0.0009880091445616079,\n",
       " 'MV MV EO': 0.0007835934594798959,\n",
       " 'MV MV SV': 0.000613247055245136,\n",
       " 'MV MV LS': 0.00044290065101037596,\n",
       " 'MV MV YT': 0.00034069280846952,\n",
       " 'MV MV GR': 0.000272554246775616,\n",
       " 'MV MV NL': 0.000119242482964332,\n",
       " 'MV MV KR': 0.00010220784254085599,\n",
       " 'MV MV AG': 1.7034640423476e-05,\n",
       " 'MV MV MS': 0.0,\n",
       " 'MV MV RK': 0.0,\n",
       " 'MV MV NM': 0.0,\n",
       " 'MV LH MV': 0.0046845261164559,\n",
       " 'MV LH LH': 0.004488657428659836,\n",
       " 'MV LH VB': 0.0030196422701893435,\n",
       " 'MV LH SP': 0.002448358597450819,\n",
       " 'MV LH LN': 0.002432036206801147,\n",
       " 'MV LH CL': 0.002089266003158032,\n",
       " 'MV LH CS': 0.0019913316592599997,\n",
       " 'MV LH DR': 0.0017138510182155733,\n",
       " 'MV LH PG': 0.0012078569080757374,\n",
       " 'MV LH FA': 0.0009466986576809835,\n",
       " 'MV LH EO': 0.0007508299698849178,\n",
       " 'MV LH SV': 0.0005876060633881966,\n",
       " 'MV LH LS': 0.0004243821568914753,\n",
       " 'MV LH YT': 0.00032644781299344253,\n",
       " 'MV LH GR': 0.000261158250394754,\n",
       " 'MV LH NL': 0.0001142567345477049,\n",
       " 'MV LH KR': 9.793434389803277e-05,\n",
       " 'MV LH AG': 1.6322390649672127e-05,\n",
       " 'MV LH MS': 0.0,\n",
       " 'MV LH RK': 0.0,\n",
       " 'MV LH NM': 0.0,\n",
       " 'MV VB MV': 0.0031514084783430597,\n",
       " 'MV VB LH': 0.003019642270189344,\n",
       " 'MV VB VB': 0.0020313957090364676,\n",
       " 'MV VB SP': 0.0016470776019214602,\n",
       " 'MV VB LN': 0.001636097084575317,\n",
       " 'MV VB CL': 0.0014055062203063126,\n",
       " 'MV VB CS': 0.0013396231162294543,\n",
       " 'MV VB DR': 0.001152954321345022,\n",
       " 'MV VB PG': 0.000812558283614587,\n",
       " 'MV VB FA': 0.0006368700060762979,\n",
       " 'MV VB EO': 0.0005051037979225811,\n",
       " 'MV VB SV': 0.0003952986244611504,\n",
       " 'MV VB LS': 0.0002854934509997197,\n",
       " 'MV VB YT': 0.00021961034692286136,\n",
       " 'MV VB GR': 0.00017568827753828908,\n",
       " 'MV VB NL': 7.686362142300149e-05,\n",
       " 'MV VB KR': 6.58831040768584e-05,\n",
       " 'MV VB AG': 1.0980517346143067e-05,\n",
       " 'MV VB MS': 0.0,\n",
       " 'MV VB RK': 0.0,\n",
       " 'MV VB NM': 0.0,\n",
       " 'MV SP MV': 0.0025551960635214,\n",
       " 'MV SP LH': 0.002448358597450819,\n",
       " 'MV SP VB': 0.0016470776019214602,\n",
       " 'MV SP SP': 0.0013354683258822652,\n",
       " 'MV SP LN': 0.0013265652037097164,\n",
       " 'MV SP CL': 0.0011395996380861994,\n",
       " 'MV SP CS': 0.001086180905050909,\n",
       " 'MV SP DR': 0.0009348278281175855,\n",
       " 'MV SP PG': 0.0006588310407685841,\n",
       " 'MV SP FA': 0.0005163810860078091,\n",
       " 'MV SP EO': 0.0004095436199372279,\n",
       " 'MV SP SV': 0.0003205123982117436,\n",
       " 'MV SP LS': 0.00023148117648625927,\n",
       " 'MV SP YT': 0.00017806244345096867,\n",
       " 'MV SP GR': 0.00014244995476077492,\n",
       " 'MV SP NL': 6.232185520783904e-05,\n",
       " 'MV SP KR': 5.34187330352906e-05,\n",
       " 'MV SP AG': 8.903122172548433e-06,\n",
       " 'MV SP MS': 0.0,\n",
       " 'MV SP RK': 0.0,\n",
       " 'MV SP NM': 0.0,\n",
       " 'MV LN MV': 0.0025381614230979236,\n",
       " 'MV LN LH': 0.0024320362068011472,\n",
       " 'MV LN VB': 0.001636097084575317,\n",
       " 'MV LN SP': 0.0013265652037097167,\n",
       " 'MV LN LN': 0.001317721435684985,\n",
       " 'MV LN CL': 0.001132002307165625,\n",
       " 'MV LN CS': 0.0010789396990172361,\n",
       " 'MV LN DR': 0.0009285956425968016,\n",
       " 'MV LN PG': 0.0006544388338301268,\n",
       " 'MV LN FA': 0.0005129385454344238,\n",
       " 'MV LN EO': 0.00040681332913764635,\n",
       " 'MV LN SV': 0.00031837564889033196,\n",
       " 'MV LN LS': 0.0002299379686430175,\n",
       " 'MV LN YT': 0.00017687536049462886,\n",
       " 'MV LN GR': 0.00014150028839570312,\n",
       " 'MV LN NL': 6.19063761731201e-05,\n",
       " 'MV LN KR': 5.306260814838866e-05,\n",
       " 'MV LN AG': 8.843768024731445e-06,\n",
       " 'MV LN MS': 0.0,\n",
       " 'MV LN RK': 0.0,\n",
       " 'MV LN NM': 0.0,\n",
       " 'MV CL MV': 0.002180433974204928,\n",
       " 'MV CL LH': 0.002089266003158032,\n",
       " 'MV CL VB': 0.0014055062203063126,\n",
       " 'MV CL SP': 0.0011395996380861994,\n",
       " 'MV CL LN': 0.0011320023071656248,\n",
       " 'MV CL CL': 0.0009724583578335569,\n",
       " 'MV CL CS': 0.0009268743723101089,\n",
       " 'MV CL DR': 0.0007977197466603396,\n",
       " 'MV CL PG': 0.0005622024881225251,\n",
       " 'MV CL FA': 0.00044064519339333046,\n",
       " 'MV CL EO': 0.00034947722234643445,\n",
       " 'MV CL SV': 0.0002735039131406879,\n",
       " 'MV CL LS': 0.00019753060393494122,\n",
       " 'MV CL YT': 0.00015194661841149326,\n",
       " 'MV CL GR': 0.00012155729472919461,\n",
       " 'MV CL NL': 5.318131644402264e-05,\n",
       " 'MV CL KR': 4.558398552344798e-05,\n",
       " 'MV CL AG': 7.597330920574663e-06,\n",
       " 'MV CL MS': 0.0,\n",
       " 'MV CL RK': 0.0,\n",
       " 'MV CL NM': 0.0,\n",
       " 'MV CS MV': 0.002078226131664072,\n",
       " 'MV CS LH': 0.0019913316592599997,\n",
       " 'MV CS VB': 0.0013396231162294543,\n",
       " 'MV CS SP': 0.001086180905050909,\n",
       " 'MV CS LN': 0.001078939699017236,\n",
       " 'MV CS CL': 0.0009268743723101089,\n",
       " 'MV CS CS': 0.0008834271361080726,\n",
       " 'MV CS DR': 0.0007603266335356361,\n",
       " 'MV CS PG': 0.0005358492464917817,\n",
       " 'MV CS FA': 0.0004199899499530181,\n",
       " 'MV CS EO': 0.00033309547754894537,\n",
       " 'MV CS SV': 0.0002606834172122181,\n",
       " 'MV CS LS': 0.00018827135687549086,\n",
       " 'MV CS YT': 0.0001448241206734545,\n",
       " 'MV CS GR': 0.00011585929653876361,\n",
       " 'MV CS NL': 5.0688442235709085e-05,\n",
       " 'MV CS KR': 4.344723620203635e-05,\n",
       " 'MV CS AG': 7.241206033672726e-06,\n",
       " 'MV CS MS': 0.0,\n",
       " 'MV CS RK': 0.0,\n",
       " 'MV CS NM': 0.0,\n",
       " 'MV DR MV': 0.0017886372444649802,\n",
       " 'MV DR LH': 0.0017138510182155733,\n",
       " 'MV DR VB': 0.001152954321345022,\n",
       " 'MV DR SP': 0.0009348278281175855,\n",
       " 'MV DR LN': 0.0009285956425968016,\n",
       " 'MV DR CL': 0.0007977197466603396,\n",
       " 'MV DR CS': 0.0007603266335356362,\n",
       " 'MV DR DR': 0.0006543794796823099,\n",
       " 'MV DR PG': 0.00046118172853800885,\n",
       " 'MV DR FA': 0.0003614667602054664,\n",
       " 'MV DR EO': 0.00028668053395605953,\n",
       " 'MV DR SV': 0.00022435867874822052,\n",
       " 'MV DR LS': 0.00016203682354038148,\n",
       " 'MV DR YT': 0.00012464371041567807,\n",
       " 'MV DR GR': 9.971496833254245e-05,\n",
       " 'MV DR NL': 4.3625298645487324e-05,\n",
       " 'MV DR KR': 3.739311312470342e-05,\n",
       " 'MV DR AG': 6.232185520783903e-06,\n",
       " 'MV DR MS': 0.0,\n",
       " 'MV DR RK': 0.0,\n",
       " 'MV DR NM': 0.0,\n",
       " 'MV PG MV': 0.0012605633913372238,\n",
       " 'MV PG LH': 0.0012078569080757374,\n",
       " 'MV PG VB': 0.0008125582836145869,\n",
       " 'MV PG SP': 0.0006588310407685841,\n",
       " 'MV PG LN': 0.0006544388338301267,\n",
       " 'MV PG CL': 0.0005622024881225251,\n",
       " 'MV PG CS': 0.0005358492464917817,\n",
       " 'MV PG DR': 0.0004611817285380088,\n",
       " 'MV PG PG': 0.0003250233134458348,\n",
       " 'MV PG FA': 0.00025474800243051917,\n",
       " 'MV PG EO': 0.00020204151916903242,\n",
       " 'MV PG SV': 0.00015811944978446016,\n",
       " 'MV PG LS': 0.00011419738039988789,\n",
       " 'MV PG YT': 8.784413876914454e-05,\n",
       " 'MV PG GR': 7.027531101531563e-05,\n",
       " 'MV PG NL': 3.074544856920059e-05,\n",
       " 'MV PG KR': 2.6353241630743358e-05,\n",
       " 'MV PG AG': 4.392206938457227e-06,\n",
       " 'MV PG MS': 0.0,\n",
       " 'MV PG RK': 0.0,\n",
       " 'MV PG NM': 0.0,\n",
       " 'MV FA MV': 0.000988009144561608,\n",
       " 'MV FA LH': 0.0009466986576809835,\n",
       " 'MV FA VB': 0.000636870006076298,\n",
       " 'MV FA SP': 0.0005163810860078092,\n",
       " 'MV FA LN': 0.0005129385454344238,\n",
       " 'MV FA CL': 0.0004406451933933305,\n",
       " 'MV FA CS': 0.00041998994995301816,\n",
       " 'MV FA DR': 0.00036146676020546646,\n",
       " 'MV FA PG': 0.0002547480024305192,\n",
       " 'MV FA FA': 0.00019966735325635288,\n",
       " 'MV FA EO': 0.00015835686637572812,\n",
       " 'MV FA SV': 0.0001239314606418742,\n",
       " 'MV FA LS': 8.950605490802025e-05,\n",
       " 'MV FA YT': 6.88508114677079e-05,\n",
       " 'MV FA GR': 5.5080649174166315e-05,\n",
       " 'MV FA NL': 2.4097784013697764e-05,\n",
       " 'MV FA KR': 2.0655243440312367e-05,\n",
       " 'MV FA AG': 3.4425405733853947e-06,\n",
       " 'MV FA MS': 0.0,\n",
       " 'MV FA RK': 0.0,\n",
       " 'MV FA NM': 0.0,\n",
       " 'MV EO MV': 0.000783593459479896,\n",
       " 'MV EO LH': 0.0007508299698849179,\n",
       " 'MV EO VB': 0.0005051037979225811,\n",
       " 'MV EO SP': 0.0004095436199372279,\n",
       " 'MV EO LN': 0.00040681332913764635,\n",
       " 'MV EO CL': 0.0003494772223464345,\n",
       " 'MV EO CS': 0.00033309547754894537,\n",
       " 'MV EO DR': 0.00028668053395605953,\n",
       " 'MV EO PG': 0.00020204151916903244,\n",
       " 'MV EO FA': 0.00015835686637572812,\n",
       " 'MV EO EO': 0.0001255933767807499,\n",
       " 'MV EO SV': 9.829046878493471e-05,\n",
       " 'MV EO LS': 7.09875607891195e-05,\n",
       " 'MV EO YT': 5.460581599163039e-05,\n",
       " 'MV EO GR': 4.368465279330431e-05,\n",
       " 'MV EO NL': 1.911203559707064e-05,\n",
       " 'MV EO KR': 1.6381744797489116e-05,\n",
       " 'MV EO AG': 2.7302907995815196e-06,\n",
       " 'MV EO MS': 0.0,\n",
       " 'MV EO RK': 0.0,\n",
       " 'MV EO NM': 0.0,\n",
       " 'MV SV MV': 0.000613247055245136,\n",
       " 'MV SV LH': 0.0005876060633881966,\n",
       " 'MV SV VB': 0.0003952986244611504,\n",
       " 'MV SV SP': 0.0003205123982117436,\n",
       " 'MV SV LN': 0.0003183756488903319,\n",
       " 'MV SV CL': 0.0002735039131406879,\n",
       " 'MV SV CS': 0.0002606834172122181,\n",
       " 'MV SV DR': 0.0002243586787482205,\n",
       " 'MV SV PG': 0.00015811944978446016,\n",
       " 'MV SV FA': 0.0001239314606418742,\n",
       " 'MV SV EO': 9.82904687849347e-05,\n",
       " 'MV SV SV': 7.692297557081847e-05,\n",
       " 'MV SV LS': 5.555548235670222e-05,\n",
       " 'MV SV YT': 4.2734986428232474e-05,\n",
       " 'MV SV GR': 3.4187989142585984e-05,\n",
       " 'MV SV NL': 1.4957245249881368e-05,\n",
       " 'MV SV KR': 1.2820495928469744e-05,\n",
       " 'MV SV AG': 2.136749321411624e-06,\n",
       " 'MV SV MS': 0.0,\n",
       " 'MV SV RK': 0.0,\n",
       " 'MV SV NM': 0.0,\n",
       " 'MV LS MV': 0.000442900651010376,\n",
       " 'MV LS LH': 0.0004243821568914753,\n",
       " 'MV LS VB': 0.0002854934509997197,\n",
       " 'MV LS SP': 0.00023148117648625927,\n",
       " 'MV LS LN': 0.0002299379686430175,\n",
       " 'MV LS CL': 0.00019753060393494122,\n",
       " 'MV LS CS': 0.00018827135687549086,\n",
       " 'MV LS DR': 0.00016203682354038148,\n",
       " 'MV LS PG': 0.00011419738039988789,\n",
       " 'MV LS FA': 8.950605490802025e-05,\n",
       " 'MV LS EO': 7.09875607891195e-05,\n",
       " 'MV LS SV': 5.555548235670222e-05,\n",
       " 'MV LS LS': 4.012340392428493e-05,\n",
       " 'MV LS YT': 3.0864156864834566e-05,\n",
       " 'MV LS GR': 2.4691325491867652e-05,\n",
       " 'MV LS NL': 1.0802454902692098e-05,\n",
       " 'MV LS KR': 9.259247059450369e-06,\n",
       " 'MV LS AG': 1.5432078432417282e-06,\n",
       " 'MV LS MS': 0.0,\n",
       " 'MV LS RK': 0.0,\n",
       " 'MV LS NM': 0.0,\n",
       " 'MV YT MV': 0.00034069280846952,\n",
       " 'MV YT LH': 0.0003264478129934426,\n",
       " 'MV YT VB': 0.00021961034692286136,\n",
       " 'MV YT SP': 0.00017806244345096867,\n",
       " 'MV YT LN': 0.00017687536049462886,\n",
       " 'MV YT CL': 0.00015194661841149326,\n",
       " 'MV YT CS': 0.0001448241206734545,\n",
       " 'MV YT DR': 0.00012464371041567807,\n",
       " 'MV YT PG': 8.784413876914454e-05,\n",
       " 'MV YT FA': 6.885081146770788e-05,\n",
       " 'MV YT EO': 5.460581599163039e-05,\n",
       " 'MV YT SV': 4.273498642823248e-05,\n",
       " 'MV YT LS': 3.0864156864834566e-05,\n",
       " 'MV YT YT': 2.3741659126795822e-05,\n",
       " 'MV YT GR': 1.8993327301436658e-05,\n",
       " 'MV YT NL': 8.309580694378538e-06,\n",
       " 'MV YT KR': 7.122497738038747e-06,\n",
       " 'MV YT AG': 1.1870829563397911e-06,\n",
       " 'MV YT MS': 0.0,\n",
       " 'MV YT RK': 0.0,\n",
       " 'MV YT NM': 0.0,\n",
       " 'MV GR MV': 0.000272554246775616,\n",
       " 'MV GR LH': 0.000261158250394754,\n",
       " 'MV GR VB': 0.00017568827753828908,\n",
       " 'MV GR SP': 0.00014244995476077492,\n",
       " 'MV GR LN': 0.0001415002883957031,\n",
       " 'MV GR CL': 0.00012155729472919461,\n",
       " 'MV GR CS': 0.00011585929653876361,\n",
       " 'MV GR DR': 9.971496833254245e-05,\n",
       " 'MV GR PG': 7.027531101531563e-05,\n",
       " 'MV GR FA': 5.508064917416631e-05,\n",
       " 'MV GR EO': 4.3684652793304306e-05,\n",
       " 'MV GR SV': 3.4187989142585984e-05,\n",
       " 'MV GR LS': 2.4691325491867652e-05,\n",
       " 'MV GR YT': 1.8993327301436658e-05,\n",
       " 'MV GR GR': 1.5194661841149326e-05,\n",
       " 'MV GR NL': 6.64766455550283e-06,\n",
       " 'MV GR KR': 5.697998190430997e-06,\n",
       " 'MV GR AG': 9.496663650718329e-07,\n",
       " 'MV GR MS': 0.0,\n",
       " 'MV GR RK': 0.0,\n",
       " 'MV GR NM': 0.0,\n",
       " 'MV NL MV': 0.00011924248296433201,\n",
       " 'MV NL LH': 0.00011425673454770491,\n",
       " 'MV NL VB': 7.686362142300149e-05,\n",
       " 'MV NL SP': 6.232185520783905e-05,\n",
       " 'MV NL LN': 6.19063761731201e-05,\n",
       " 'MV NL CL': 5.318131644402265e-05,\n",
       " 'MV NL CS': 5.0688442235709085e-05,\n",
       " 'MV NL DR': 4.362529864548733e-05,\n",
       " 'MV NL PG': 3.0745448569200594e-05,\n",
       " 'MV NL FA': 2.4097784013697764e-05,\n",
       " 'MV NL EO': 1.911203559707064e-05,\n",
       " 'MV NL SV': 1.495724524988137e-05,\n",
       " 'MV NL LS': 1.08024549026921e-05,\n",
       " 'MV NL YT': 8.309580694378538e-06,\n",
       " 'MV NL GR': 6.647664555502831e-06,\n",
       " 'MV NL NL': 2.9083532430324887e-06,\n",
       " 'MV NL KR': 2.4928742083135614e-06,\n",
       " 'MV NL AG': 4.1547903471892694e-07,\n",
       " 'MV NL MS': 0.0,\n",
       " 'MV NL RK': 0.0,\n",
       " 'MV NL NM': 0.0,\n",
       " 'MV KR MV': 0.00010220784254085599,\n",
       " 'MV KR LH': 9.793434389803276e-05,\n",
       " 'MV KR VB': 6.58831040768584e-05,\n",
       " 'MV KR SP': 5.341873303529059e-05,\n",
       " 'MV KR LN': 5.306260814838865e-05,\n",
       " 'MV KR CL': 4.558398552344798e-05,\n",
       " 'MV KR CS': 4.344723620203635e-05,\n",
       " 'MV KR DR': 3.739311312470342e-05,\n",
       " 'MV KR PG': 2.6353241630743358e-05,\n",
       " 'MV KR FA': 2.0655243440312364e-05,\n",
       " 'MV KR EO': 1.6381744797489112e-05,\n",
       " 'MV KR SV': 1.2820495928469742e-05,\n",
       " 'MV KR LS': 9.259247059450369e-06,\n",
       " 'MV KR YT': 7.122497738038746e-06,\n",
       " 'MV KR GR': 5.697998190430997e-06,\n",
       " 'MV KR NL': 2.492874208313561e-06,\n",
       " 'MV KR KR': 2.1367493214116236e-06,\n",
       " 'MV KR AG': 3.5612488690193734e-07,\n",
       " 'MV KR MS': 0.0,\n",
       " 'MV KR RK': 0.0,\n",
       " 'MV KR NM': 0.0,\n",
       " 'MV AG MV': 1.7034640423476e-05,\n",
       " 'MV AG LH': 1.6322390649672127e-05,\n",
       " 'MV AG VB': 1.0980517346143067e-05,\n",
       " 'MV AG SP': 8.903122172548433e-06,\n",
       " 'MV AG LN': 8.843768024731443e-06,\n",
       " 'MV AG CL': 7.597330920574663e-06,\n",
       " 'MV AG CS': 7.241206033672726e-06,\n",
       " 'MV AG DR': 6.232185520783903e-06,\n",
       " 'MV AG PG': 4.392206938457227e-06,\n",
       " 'MV AG FA': 3.4425405733853942e-06,\n",
       " 'MV AG EO': 2.730290799581519e-06,\n",
       " 'MV AG SV': 2.136749321411624e-06,\n",
       " 'MV AG LS': 1.5432078432417282e-06,\n",
       " 'MV AG YT': 1.1870829563397911e-06,\n",
       " 'MV AG GR': 9.496663650718329e-07,\n",
       " 'MV AG NL': 4.154790347189269e-07,\n",
       " 'MV AG KR': 3.5612488690193734e-07,\n",
       " 'MV AG AG': 5.9354147816989556e-08,\n",
       " 'MV AG MS': 0.0,\n",
       " 'MV AG RK': 0.0,\n",
       " 'MV AG NM': 0.0,\n",
       " 'MV MS MV': 0.0,\n",
       " 'MV MS LH': 0.0,\n",
       " 'MV MS VB': 0.0,\n",
       " 'MV MS SP': 0.0,\n",
       " 'MV MS LN': 0.0,\n",
       " 'MV MS CL': 0.0,\n",
       " 'MV MS CS': 0.0,\n",
       " 'MV MS DR': 0.0,\n",
       " 'MV MS PG': 0.0,\n",
       " 'MV MS FA': 0.0,\n",
       " 'MV MS EO': 0.0,\n",
       " 'MV MS SV': 0.0,\n",
       " 'MV MS LS': 0.0,\n",
       " 'MV MS YT': 0.0,\n",
       " 'MV MS GR': 0.0,\n",
       " 'MV MS NL': 0.0,\n",
       " 'MV MS KR': 0.0,\n",
       " 'MV MS AG': 0.0,\n",
       " 'MV MS MS': 0.0,\n",
       " 'MV MS RK': 0.0,\n",
       " 'MV MS NM': 0.0,\n",
       " 'MV RK MV': 0.0,\n",
       " 'MV RK LH': 0.0,\n",
       " 'MV RK VB': 0.0,\n",
       " 'MV RK SP': 0.0,\n",
       " 'MV RK LN': 0.0,\n",
       " 'MV RK CL': 0.0,\n",
       " 'MV RK CS': 0.0,\n",
       " 'MV RK DR': 0.0,\n",
       " 'MV RK PG': 0.0,\n",
       " 'MV RK FA': 0.0,\n",
       " 'MV RK EO': 0.0,\n",
       " 'MV RK SV': 0.0,\n",
       " 'MV RK LS': 0.0,\n",
       " 'MV RK YT': 0.0,\n",
       " 'MV RK GR': 0.0,\n",
       " 'MV RK NL': 0.0,\n",
       " 'MV RK KR': 0.0,\n",
       " 'MV RK AG': 0.0,\n",
       " 'MV RK MS': 0.0,\n",
       " 'MV RK RK': 0.0,\n",
       " 'MV RK NM': 0.0,\n",
       " 'MV NM MV': 0.0,\n",
       " 'MV NM LH': 0.0,\n",
       " 'MV NM VB': 0.0,\n",
       " 'MV NM SP': 0.0,\n",
       " 'MV NM LN': 0.0,\n",
       " 'MV NM CL': 0.0,\n",
       " 'MV NM CS': 0.0,\n",
       " 'MV NM DR': 0.0,\n",
       " 'MV NM PG': 0.0,\n",
       " 'MV NM FA': 0.0,\n",
       " 'MV NM EO': 0.0,\n",
       " 'MV NM SV': 0.0,\n",
       " 'MV NM LS': 0.0,\n",
       " 'MV NM YT': 0.0,\n",
       " 'MV NM GR': 0.0,\n",
       " 'MV NM NL': 0.0,\n",
       " 'MV NM KR': 0.0,\n",
       " 'MV NM AG': 0.0,\n",
       " 'MV NM MS': 0.0,\n",
       " 'MV NM RK': 0.0,\n",
       " 'MV NM NM': 0.0,\n",
       " 'LH MV MV': 0.0046845261164559,\n",
       " 'LH MV LH': 0.004488657428659836,\n",
       " 'LH MV VB': 0.0030196422701893435,\n",
       " 'LH MV SP': 0.002448358597450819,\n",
       " 'LH MV LN': 0.002432036206801147,\n",
       " 'LH MV CL': 0.002089266003158032,\n",
       " 'LH MV CS': 0.0019913316592599997,\n",
       " 'LH MV DR': 0.0017138510182155733,\n",
       " 'LH MV PG': 0.0012078569080757374,\n",
       " 'LH MV FA': 0.0009466986576809835,\n",
       " 'LH MV EO': 0.0007508299698849178,\n",
       " 'LH MV SV': 0.0005876060633881966,\n",
       " 'LH MV LS': 0.0004243821568914753,\n",
       " 'LH MV YT': 0.00032644781299344253,\n",
       " 'LH MV GR': 0.000261158250394754,\n",
       " 'LH MV NL': 0.0001142567345477049,\n",
       " 'LH MV KR': 9.793434389803277e-05,\n",
       " 'LH MV AG': 1.6322390649672127e-05,\n",
       " 'LH MV MS': 0.0,\n",
       " 'LH MV RK': 0.0,\n",
       " 'LH MV NM': 0.0,\n",
       " 'LH LH MV': 0.004488657428659835,\n",
       " 'LH LH LH': 0.004300978372409251,\n",
       " 'LH LH VB': 0.0028933854505298596,\n",
       " 'LH LH SP': 0.0023459882031323185,\n",
       " 'LH LH LN': 0.0023303482817781025,\n",
       " 'LH LH CL': 0.0020019099333395784,\n",
       " 'LH LH CS': 0.0019080704052142855,\n",
       " 'LH LH DR': 0.0016421917421926228,\n",
       " 'LH LH PG': 0.0011573541802119437,\n",
       " 'LH LH FA': 0.0009071154385444964,\n",
       " 'LH LH EO': 0.0007194363822939109,\n",
       " 'LH LH SV': 0.0005630371687517564,\n",
       " 'LH LH LS': 0.00040663795520960185,\n",
       " 'LH LH YT': 0.0003127984270843091,\n",
       " 'LH LH GR': 0.0002502387416674473,\n",
       " 'LH LH NL': 0.00010947944947950819,\n",
       " 'LH LH KR': 9.383952812529273e-05,\n",
       " 'LH LH AG': 1.5639921354215457e-05,\n",
       " 'LH LH MS': 0.0,\n",
       " 'LH LH RK': 0.0,\n",
       " 'LH LH NM': 0.0,\n",
       " 'LH VB MV': 0.003019642270189344,\n",
       " 'LH VB LH': 0.0028933854505298596,\n",
       " 'LH VB VB': 0.0019464593030837237,\n",
       " 'LH VB SP': 0.0015782102457435596,\n",
       " 'LH VB LN': 0.0015676888441052692,\n",
       " 'LH VB CL': 0.0013467394097011712,\n",
       " 'LH VB CS': 0.0012836109998714286,\n",
       " 'LH VB DR': 0.001104747172020492,\n",
       " 'LH VB PG': 0.0007785837212334895,\n",
       " 'LH VB FA': 0.0006102412950208431,\n",
       " 'LH VB EO': 0.00048398447536135826,\n",
       " 'LH VB SV': 0.0003787704589784543,\n",
       " 'LH VB LS': 0.0002735564425955504,\n",
       " 'LH VB YT': 0.00021042803276580794,\n",
       " 'LH VB GR': 0.0001683424262126464,\n",
       " 'LH VB NL': 7.36498114680328e-05,\n",
       " 'LH VB KR': 6.312840982974239e-05,\n",
       " 'LH VB AG': 1.05214016382904e-05,\n",
       " 'LH VB MS': 0.0,\n",
       " 'LH VB RK': 0.0,\n",
       " 'LH VB NM': 0.0,\n",
       " 'LH SP MV': 0.0024483585974508196,\n",
       " 'LH SP LH': 0.0023459882031323185,\n",
       " 'LH SP VB': 0.0015782102457435596,\n",
       " 'LH SP SP': 0.0012796299289812645,\n",
       " 'LH SP LN': 0.001271099062788056,\n",
       " 'LH SP CL': 0.0010919508727306791,\n",
       " 'LH SP CS': 0.0010407656755714286,\n",
       " 'LH SP DR': 0.0008957409502868852,\n",
       " 'LH SP PG': 0.0006312840982974239,\n",
       " 'LH SP FA': 0.000494790239206089,\n",
       " 'LH SP EO': 0.0003924198448875878,\n",
       " 'LH SP SV': 0.00030711118295550355,\n",
       " 'LH SP LS': 0.0002218025210234192,\n",
       " 'LH SP YT': 0.0001706173238641686,\n",
       " 'LH SP GR': 0.0001364938590913349,\n",
       " 'LH SP NL': 5.9716063352459016e-05,\n",
       " 'LH SP KR': 5.118519715925059e-05,\n",
       " 'LH SP AG': 8.53086619320843e-06,\n",
       " 'LH SP MS': 0.0,\n",
       " 'LH SP RK': 0.0,\n",
       " 'LH SP NM': 0.0,\n",
       " 'LH LN MV': 0.002432036206801147,\n",
       " 'LH LN LH': 0.0023303482817781025,\n",
       " 'LH LN VB': 0.0015676888441052692,\n",
       " 'LH LN SP': 0.001271099062788056,\n",
       " 'LH LN LN': 0.0012626250690361354,\n",
       " 'LH LN CL': 0.0010846712002458077,\n",
       " 'LH LN CS': 0.0010338272377342856,\n",
       " 'LH LN DR': 0.0008897693439516392,\n",
       " 'LH LN PG': 0.0006270755376421075,\n",
       " 'LH LN FA': 0.0004914916376113817,\n",
       " 'LH LN EO': 0.00038980371258833717,\n",
       " 'LH LN SV': 0.00030506377506913344,\n",
       " 'LH LN LS': 0.00022032383754992972,\n",
       " 'LH LN YT': 0.00016947987503840748,\n",
       " 'LH LN GR': 0.00013558390003072597,\n",
       " 'LH LN NL': 5.931795626344262e-05,\n",
       " 'LH LN KR': 5.084396251152224e-05,\n",
       " 'LH LN AG': 8.473993751920373e-06,\n",
       " 'LH LN MS': 0.0,\n",
       " 'LH LN RK': 0.0,\n",
       " 'LH LN NM': 0.0,\n",
       " 'LH CL MV': 0.002089266003158032,\n",
       " 'LH CL LH': 0.0020019099333395784,\n",
       " 'LH CL VB': 0.001346739409701171,\n",
       " 'LH CL SP': 0.0010919508727306791,\n",
       " 'LH CL LN': 0.001084671200245808,\n",
       " 'LH CL CL': 0.000931798078063513,\n",
       " 'LH CL CS': 0.0008881200431542858,\n",
       " 'LH CL DR': 0.0007643656109114754,\n",
       " 'LH CL PG': 0.0005386957638804684,\n",
       " 'LH CL FA': 0.00042222100412252927,\n",
       " 'LH CL EO': 0.00033486493430407495,\n",
       " 'LH CL SV': 0.000262068209455363,\n",
       " 'LH CL LS': 0.00018927148460665106,\n",
       " 'LH CL YT': 0.00014559344969742387,\n",
       " 'LH CL GR': 0.00011647475975793912,\n",
       " 'LH CL NL': 5.095770739409836e-05,\n",
       " 'LH CL KR': 4.3678034909227165e-05,\n",
       " 'LH CL AG': 7.279672484871195e-06,\n",
       " 'LH CL MS': 0.0,\n",
       " 'LH CL RK': 0.0,\n",
       " 'LH CL NM': 0.0,\n",
       " 'LH CS MV': 0.0019913316592599997,\n",
       " 'LH CS LH': 0.0019080704052142857,\n",
       " 'LH CS VB': 0.0012836109998714286,\n",
       " 'LH CS SP': 0.0010407656755714286,\n",
       " 'LH CS LN': 0.0010338272377342856,\n",
       " 'LH CS CL': 0.0008881200431542858,\n",
       " 'LH CS CS': 0.0008464894161314285,\n",
       " 'LH CS DR': 0.0007285359729,\n",
       " 'LH CS PG': 0.0005134443999485715,\n",
       " 'LH CS FA': 0.0004024293945542857,\n",
       " 'LH CS EO': 0.0003191681405085714,\n",
       " 'LH CS SV': 0.0002497837621371429,\n",
       " 'LH CS LS': 0.00018039938376571428,\n",
       " 'LH CS YT': 0.00013876875674285715,\n",
       " 'LH CS GR': 0.00011101500539428572,\n",
       " 'LH CS NL': 4.856906486e-05,\n",
       " 'LH CS KR': 4.1630627022857145e-05,\n",
       " 'LH CS AG': 6.9384378371428575e-06,\n",
       " 'LH CS MS': 0.0,\n",
       " 'LH CS RK': 0.0,\n",
       " 'LH CS NM': 0.0,\n",
       " 'LH DR MV': 0.0017138510182155733,\n",
       " 'LH DR LH': 0.001642191742192623,\n",
       " 'LH DR VB': 0.0011047471720204917,\n",
       " 'LH DR SP': 0.0008957409502868851,\n",
       " 'LH DR LN': 0.0008897693439516393,\n",
       " 'LH DR CL': 0.0007643656109114754,\n",
       " 'LH DR CS': 0.0007285359729,\n",
       " 'LH DR DR': 0.0006270186652008196,\n",
       " 'LH DR PG': 0.0004418988688081967,\n",
       " 'LH DR FA': 0.00034635316744426227,\n",
       " 'LH DR EO': 0.00027469389142131145,\n",
       " 'LH DR SV': 0.00021497782806885243,\n",
       " 'LH DR LS': 0.00015526176471639344,\n",
       " 'LH DR YT': 0.00011943212670491802,\n",
       " 'LH DR GR': 9.554570136393443e-05,\n",
       " 'LH DR NL': 4.180124434672131e-05,\n",
       " 'LH DR KR': 3.58296380114754e-05,\n",
       " 'LH DR AG': 5.971606335245902e-06,\n",
       " 'LH DR MS': 0.0,\n",
       " 'LH DR RK': 0.0,\n",
       " 'LH DR NM': 0.0,\n",
       " 'LH PG MV': 0.0012078569080757374,\n",
       " 'LH PG LH': 0.0011573541802119437,\n",
       " 'LH PG VB': 0.0007785837212334894,\n",
       " 'LH PG SP': 0.0006312840982974238,\n",
       " 'LH PG LN': 0.0006270755376421075,\n",
       " 'LH PG CL': 0.0005386957638804684,\n",
       " 'LH PG CS': 0.0005134443999485715,\n",
       " 'LH PG DR': 0.0004418988688081967,\n",
       " 'LH PG PG': 0.00031143348849339576,\n",
       " 'LH PG FA': 0.00024409651800833722,\n",
       " 'LH PG EO': 0.0001935937901445433,\n",
       " 'LH PG SV': 0.00015150818359138172,\n",
       " 'LH PG LS': 0.00010942257703822013,\n",
       " 'LH PG YT': 8.417121310632319e-05,\n",
       " 'LH PG GR': 6.733697048505855e-05,\n",
       " 'LH PG NL': 2.9459924587213117e-05,\n",
       " 'LH PG KR': 2.5251363931896954e-05,\n",
       " 'LH PG AG': 4.208560655316159e-06,\n",
       " 'LH PG MS': 0.0,\n",
       " 'LH PG RK': 0.0,\n",
       " 'LH PG NM': 0.0,\n",
       " 'LH FA MV': 0.0009466986576809835,\n",
       " 'LH FA LH': 0.0009071154385444965,\n",
       " 'LH FA VB': 0.0006102412950208431,\n",
       " 'LH FA SP': 0.000494790239206089,\n",
       " 'LH FA LN': 0.0004914916376113817,\n",
       " 'LH FA CL': 0.00042222100412252927,\n",
       " 'LH FA CS': 0.0004024293945542857,\n",
       " 'LH FA DR': 0.00034635316744426227,\n",
       " 'LH FA PG': 0.00024409651800833722,\n",
       " 'LH FA FA': 0.00019131889249302108,\n",
       " 'LH FA EO': 0.00015173567335653395,\n",
       " 'LH FA SV': 0.00011874965740946135,\n",
       " 'LH FA LS': 8.576364146238875e-05,\n",
       " 'LH FA YT': 6.59720318941452e-05,\n",
       " 'LH FA GR': 5.277762551531616e-05,\n",
       " 'LH FA NL': 2.309021116295082e-05,\n",
       " 'LH FA KR': 1.979160956824356e-05,\n",
       " 'LH FA AG': 3.29860159470726e-06,\n",
       " 'LH FA MS': 0.0,\n",
       " 'LH FA RK': 0.0,\n",
       " 'LH FA NM': 0.0,\n",
       " 'LH EO MV': 0.0007508299698849179,\n",
       " 'LH EO LH': 0.000719436382293911,\n",
       " 'LH EO VB': 0.00048398447536135826,\n",
       " 'LH EO SP': 0.0003924198448875878,\n",
       " 'LH EO LN': 0.00038980371258833717,\n",
       " 'LH EO CL': 0.00033486493430407495,\n",
       " 'LH EO CS': 0.0003191681405085714,\n",
       " 'LH EO DR': 0.00027469389142131145,\n",
       " 'LH EO PG': 0.00019359379014454332,\n",
       " 'LH EO FA': 0.00015173567335653395,\n",
       " 'LH EO EO': 0.0001203420857655269,\n",
       " 'LH EO SV': 9.418076277302107e-05,\n",
       " 'LH EO LS': 6.801943978051521e-05,\n",
       " 'LH EO YT': 5.23226459850117e-05,\n",
       " 'LH EO GR': 4.185811678800937e-05,\n",
       " 'LH EO NL': 1.8312926094754096e-05,\n",
       " 'LH EO KR': 1.569679379550351e-05,\n",
       " 'LH EO AG': 2.6161322992505856e-06,\n",
       " 'LH EO MS': 0.0,\n",
       " 'LH EO RK': 0.0,\n",
       " 'LH EO NM': 0.0,\n",
       " 'LH SV MV': 0.0005876060633881967,\n",
       " 'LH SV LH': 0.0005630371687517564,\n",
       " 'LH SV VB': 0.0003787704589784543,\n",
       " 'LH SV SP': 0.00030711118295550355,\n",
       " 'LH SV LN': 0.0003050637750691335,\n",
       " 'LH SV CL': 0.000262068209455363,\n",
       " 'LH SV CS': 0.0002497837621371429,\n",
       " 'LH SV DR': 0.00021497782806885246,\n",
       " 'LH SV PG': 0.00015150818359138172,\n",
       " 'LH SV FA': 0.00011874965740946135,\n",
       " 'LH SV EO': 9.418076277302107e-05,\n",
       " 'LH SV SV': 7.370668390932085e-05,\n",
       " 'LH SV LS': 5.323260504562061e-05,\n",
       " 'LH SV YT': 4.094815772740047e-05,\n",
       " 'LH SV GR': 3.2758526181920376e-05,\n",
       " 'LH SV NL': 1.4331855204590164e-05,\n",
       " 'LH SV KR': 1.2284447318220142e-05,\n",
       " 'LH SV AG': 2.0474078863700235e-06,\n",
       " 'LH SV MS': 0.0,\n",
       " 'LH SV RK': 0.0,\n",
       " 'LH SV NM': 0.0,\n",
       " 'LH LS MV': 0.0004243821568914753,\n",
       " 'LH LS LH': 0.00040663795520960185,\n",
       " 'LH LS VB': 0.0002735564425955503,\n",
       " 'LH LS SP': 0.00022180252102341918,\n",
       " 'LH LS LN': 0.0002203238375499297,\n",
       " 'LH LS CL': 0.00018927148460665103,\n",
       " 'LH LS CS': 0.00018039938376571428,\n",
       " 'LH LS DR': 0.00015526176471639344,\n",
       " 'LH LS PG': 0.00010942257703822013,\n",
       " 'LH LS FA': 8.576364146238874e-05,\n",
       " 'LH LS EO': 6.801943978051521e-05,\n",
       " 'LH LS SV': 5.32326050456206e-05,\n",
       " 'LH LS LS': 3.844577031072599e-05,\n",
       " 'LH LS YT': 2.9573669469789226e-05,\n",
       " 'LH LS GR': 2.365893557583138e-05,\n",
       " 'LH LS NL': 1.0350784314426228e-05,\n",
       " 'LH LS KR': 8.872100840936767e-06,\n",
       " 'LH LS AG': 1.4786834734894612e-06,\n",
       " 'LH LS MS': 0.0,\n",
       " 'LH LS RK': 0.0,\n",
       " 'LH LS NM': 0.0,\n",
       " 'LH YT MV': 0.00032644781299344253,\n",
       " 'LH YT LH': 0.0003127984270843091,\n",
       " 'LH YT VB': 0.00021042803276580794,\n",
       " 'LH YT SP': 0.0001706173238641686,\n",
       " 'LH YT LN': 0.00016947987503840748,\n",
       " 'LH YT CL': 0.00014559344969742387,\n",
       " 'LH YT CS': 0.00013876875674285715,\n",
       " 'LH YT DR': 0.00011943212670491802,\n",
       " 'LH YT PG': 8.417121310632317e-05,\n",
       " 'LH YT FA': 6.597203189414519e-05,\n",
       " 'LH YT EO': 5.23226459850117e-05,\n",
       " 'LH YT SV': 4.0948157727400465e-05,\n",
       " 'LH YT LS': 2.9573669469789226e-05,\n",
       " 'LH YT YT': 2.274897651522248e-05,\n",
       " 'LH YT GR': 1.8199181212177984e-05,\n",
       " 'LH YT NL': 7.96214178032787e-06,\n",
       " 'LH YT KR': 6.824692954566744e-06,\n",
       " 'LH YT AG': 1.137448825761124e-06,\n",
       " 'LH YT MS': 0.0,\n",
       " 'LH YT RK': 0.0,\n",
       " 'LH YT NM': 0.0,\n",
       " 'LH GR MV': 0.000261158250394754,\n",
       " 'LH GR LH': 0.0002502387416674473,\n",
       " 'LH GR VB': 0.00016834242621264638,\n",
       " 'LH GR SP': 0.0001364938590913349,\n",
       " 'LH GR LN': 0.000135583900030726,\n",
       " 'LH GR CL': 0.00011647475975793912,\n",
       " 'LH GR CS': 0.00011101500539428572,\n",
       " 'LH GR DR': 9.554570136393443e-05,\n",
       " 'LH GR PG': 6.733697048505855e-05,\n",
       " 'LH GR FA': 5.277762551531616e-05,\n",
       " 'LH GR EO': 4.185811678800937e-05,\n",
       " 'LH GR SV': 3.2758526181920376e-05,\n",
       " 'LH GR LS': 2.3658935575831382e-05,\n",
       " 'LH GR YT': 1.8199181212177984e-05,\n",
       " 'LH GR GR': 1.455934496974239e-05,\n",
       " 'LH GR NL': 6.369713424262295e-06,\n",
       " 'LH GR KR': 5.459754363653396e-06,\n",
       " 'LH GR AG': 9.099590606088994e-07,\n",
       " 'LH GR MS': 0.0,\n",
       " 'LH GR RK': 0.0,\n",
       " 'LH GR NM': 0.0,\n",
       " 'LH NL MV': 0.0001142567345477049,\n",
       " 'LH NL LH': 0.00010947944947950819,\n",
       " 'LH NL VB': 7.364981146803278e-05,\n",
       " 'LH NL SP': 5.9716063352459016e-05,\n",
       " 'LH NL LN': 5.931795626344262e-05,\n",
       " 'LH NL CL': 5.095770739409836e-05,\n",
       " 'LH NL CS': 4.856906486e-05,\n",
       " 'LH NL DR': 4.180124434672131e-05,\n",
       " 'LH NL PG': 2.9459924587213114e-05,\n",
       " 'LH NL FA': 2.3090211162950817e-05,\n",
       " 'LH NL EO': 1.8312926094754096e-05,\n",
       " 'LH NL SV': 1.4331855204590164e-05,\n",
       " 'LH NL LS': 1.0350784314426228e-05,\n",
       " 'LH NL YT': 7.96214178032787e-06,\n",
       " 'LH NL GR': 6.369713424262295e-06,\n",
       " 'LH NL NL': 2.7867496231147544e-06,\n",
       " 'LH NL KR': 2.3886425340983607e-06,\n",
       " 'LH NL AG': 3.9810708901639346e-07,\n",
       " 'LH NL MS': 0.0,\n",
       " 'LH NL RK': 0.0,\n",
       " 'LH NL NM': 0.0,\n",
       " 'LH KR MV': 9.793434389803277e-05,\n",
       " 'LH KR LH': 9.383952812529273e-05,\n",
       " 'LH KR VB': 6.312840982974239e-05,\n",
       " 'LH KR SP': 5.118519715925059e-05,\n",
       " 'LH KR LN': 5.084396251152224e-05,\n",
       " 'LH KR CL': 4.3678034909227165e-05,\n",
       " 'LH KR CS': 4.1630627022857145e-05,\n",
       " 'LH KR DR': 3.58296380114754e-05,\n",
       " 'LH KR PG': 2.5251363931896954e-05,\n",
       " 'LH KR FA': 1.979160956824356e-05,\n",
       " 'LH KR EO': 1.569679379550351e-05,\n",
       " 'LH KR SV': 1.228444731822014e-05,\n",
       " 'LH KR LS': 8.872100840936767e-06,\n",
       " 'LH KR YT': 6.824692954566744e-06,\n",
       " 'LH KR GR': 5.459754363653396e-06,\n",
       " 'LH KR NL': 2.3886425340983607e-06,\n",
       " 'LH KR KR': 2.047407886370023e-06,\n",
       " 'LH KR AG': 3.4123464772833723e-07,\n",
       " 'LH KR MS': 0.0,\n",
       " 'LH KR RK': 0.0,\n",
       " 'LH KR NM': 0.0,\n",
       " 'LH AG MV': 1.6322390649672127e-05,\n",
       " 'LH AG LH': 1.5639921354215457e-05,\n",
       " 'LH AG VB': 1.0521401638290398e-05,\n",
       " 'LH AG SP': 8.53086619320843e-06,\n",
       " 'LH AG LN': 8.473993751920375e-06,\n",
       " 'LH AG CL': 7.279672484871195e-06,\n",
       " 'LH AG CS': 6.9384378371428575e-06,\n",
       " 'LH AG DR': 5.971606335245902e-06,\n",
       " 'LH AG PG': 4.208560655316159e-06,\n",
       " 'LH AG FA': 3.29860159470726e-06,\n",
       " 'LH AG EO': 2.6161322992505856e-06,\n",
       " 'LH AG SV': 2.0474078863700235e-06,\n",
       " 'LH AG LS': 1.4786834734894614e-06,\n",
       " 'LH AG YT': 1.137448825761124e-06,\n",
       " 'LH AG GR': 9.099590606088994e-07,\n",
       " 'LH AG NL': 3.9810708901639346e-07,\n",
       " 'LH AG KR': 3.4123464772833723e-07,\n",
       " 'LH AG AG': 5.687244128805621e-08,\n",
       " 'LH AG MS': 0.0,\n",
       " 'LH AG RK': 0.0,\n",
       " 'LH AG NM': 0.0,\n",
       " 'LH MS MV': 0.0,\n",
       " 'LH MS LH': 0.0,\n",
       " 'LH MS VB': 0.0,\n",
       " 'LH MS SP': 0.0,\n",
       " 'LH MS LN': 0.0,\n",
       " 'LH MS CL': 0.0,\n",
       " 'LH MS CS': 0.0,\n",
       " 'LH MS DR': 0.0,\n",
       " 'LH MS PG': 0.0,\n",
       " 'LH MS FA': 0.0,\n",
       " 'LH MS EO': 0.0,\n",
       " 'LH MS SV': 0.0,\n",
       " 'LH MS LS': 0.0,\n",
       " 'LH MS YT': 0.0,\n",
       " 'LH MS GR': 0.0,\n",
       " 'LH MS NL': 0.0,\n",
       " 'LH MS KR': 0.0,\n",
       " 'LH MS AG': 0.0,\n",
       " 'LH MS MS': 0.0,\n",
       " 'LH MS RK': 0.0,\n",
       " 'LH MS NM': 0.0,\n",
       " 'LH RK MV': 0.0,\n",
       " 'LH RK LH': 0.0,\n",
       " 'LH RK VB': 0.0,\n",
       " 'LH RK SP': 0.0,\n",
       " 'LH RK LN': 0.0,\n",
       " 'LH RK CL': 0.0,\n",
       " 'LH RK CS': 0.0,\n",
       " 'LH RK DR': 0.0,\n",
       " 'LH RK PG': 0.0,\n",
       " 'LH RK FA': 0.0,\n",
       " 'LH RK EO': 0.0,\n",
       " 'LH RK SV': 0.0,\n",
       " 'LH RK LS': 0.0,\n",
       " 'LH RK YT': 0.0,\n",
       " 'LH RK GR': 0.0,\n",
       " 'LH RK NL': 0.0,\n",
       " 'LH RK KR': 0.0,\n",
       " 'LH RK AG': 0.0,\n",
       " 'LH RK MS': 0.0,\n",
       " 'LH RK RK': 0.0,\n",
       " 'LH RK NM': 0.0,\n",
       " 'LH NM MV': 0.0,\n",
       " 'LH NM LH': 0.0,\n",
       " 'LH NM VB': 0.0,\n",
       " 'LH NM SP': 0.0,\n",
       " 'LH NM LN': 0.0,\n",
       " 'LH NM CL': 0.0,\n",
       " 'LH NM CS': 0.0,\n",
       " 'LH NM DR': 0.0,\n",
       " 'LH NM PG': 0.0,\n",
       " 'LH NM FA': 0.0,\n",
       " 'LH NM EO': 0.0,\n",
       " 'LH NM SV': 0.0,\n",
       " 'LH NM LS': 0.0,\n",
       " 'LH NM YT': 0.0,\n",
       " 'LH NM GR': 0.0,\n",
       " 'LH NM NL': 0.0,\n",
       " 'LH NM KR': 0.0,\n",
       " 'LH NM AG': 0.0,\n",
       " 'LH NM MS': 0.0,\n",
       " 'LH NM RK': 0.0,\n",
       " 'LH NM NM': 0.0,\n",
       " 'VB MV MV': 0.0031514084783430597,\n",
       " 'VB MV LH': 0.003019642270189344,\n",
       " 'VB MV VB': 0.0020313957090364676,\n",
       " 'VB MV SP': 0.0016470776019214602,\n",
       " 'VB MV LN': 0.001636097084575317,\n",
       " 'VB MV CL': 0.0014055062203063126,\n",
       " 'VB MV CS': 0.0013396231162294543,\n",
       " 'VB MV DR': 0.001152954321345022,\n",
       " 'VB MV PG': 0.000812558283614587,\n",
       " 'VB MV FA': 0.0006368700060762979,\n",
       " 'VB MV EO': 0.0005051037979225811,\n",
       " 'VB MV SV': 0.0003952986244611504,\n",
       " 'VB MV LS': 0.0002854934509997197,\n",
       " 'VB MV YT': 0.00021961034692286136,\n",
       " 'VB MV GR': 0.00017568827753828908,\n",
       " 'VB MV NL': 7.686362142300149e-05,\n",
       " 'VB MV KR': 6.58831040768584e-05,\n",
       " 'VB MV AG': 1.0980517346143067e-05,\n",
       " 'VB MV MS': 0.0,\n",
       " 'VB MV RK': 0.0,\n",
       " 'VB MV NM': 0.0,\n",
       " 'VB LH MV': 0.003019642270189344,\n",
       " 'VB LH LH': 0.0028933854505298596,\n",
       " 'VB LH VB': 0.0019464593030837237,\n",
       " 'VB LH SP': 0.0015782102457435596,\n",
       " 'VB LH LN': 0.0015676888441052692,\n",
       " 'VB LH CL': 0.0013467394097011712,\n",
       " 'VB LH CS': 0.0012836109998714286,\n",
       " 'VB LH DR': 0.001104747172020492,\n",
       " 'VB LH PG': 0.0007785837212334895,\n",
       " 'VB LH FA': 0.0006102412950208431,\n",
       " 'VB LH EO': 0.00048398447536135826,\n",
       " 'VB LH SV': 0.0003787704589784543,\n",
       " 'VB LH LS': 0.0002735564425955504,\n",
       " 'VB LH YT': 0.00021042803276580794,\n",
       " 'VB LH GR': 0.0001683424262126464,\n",
       " 'VB LH NL': 7.36498114680328e-05,\n",
       " 'VB LH KR': 6.312840982974239e-05,\n",
       " 'VB LH AG': 1.05214016382904e-05,\n",
       " 'VB LH MS': 0.0,\n",
       " 'VB LH RK': 0.0,\n",
       " 'VB LH NM': 0.0,\n",
       " 'VB VB MV': 0.0020313957090364676,\n",
       " 'VB VB LH': 0.0019464593030837237,\n",
       " 'VB VB VB': 0.0013094362584381413,\n",
       " 'VB VB SP': 0.0010617050744093038,\n",
       " 'VB VB LN': 0.0010546270405799082,\n",
       " 'VB VB CL': 0.0009059883301626058,\n",
       " 'VB VB CS': 0.0008635201271862338,\n",
       " 'VB VB DR': 0.0007431935520865126,\n",
       " 'VB VB PG': 0.0005237745033752565,\n",
       " 'VB VB FA': 0.0004105259621049308,\n",
       " 'VB VB EO': 0.00032558955615218647,\n",
       " 'VB VB SV': 0.0002548092178582329,\n",
       " 'VB VB LS': 0.0001840288795642793,\n",
       " 'VB VB YT': 0.00014156067658790717,\n",
       " 'VB VB GR': 0.00011324854127032573,\n",
       " 'VB VB NL': 4.954623680576751e-05,\n",
       " 'VB VB KR': 4.246820297637215e-05,\n",
       " 'VB VB AG': 7.078033829395358e-06,\n",
       " 'VB VB MS': 0.0,\n",
       " 'VB VB RK': 0.0,\n",
       " 'VB VB NM': 0.0,\n",
       " 'VB SP MV': 0.0016470776019214604,\n",
       " 'VB SP LH': 0.0015782102457435596,\n",
       " 'VB SP VB': 0.0010617050744093038,\n",
       " 'VB SP SP': 0.0008608419522237598,\n",
       " 'VB SP LN': 0.0008551030058756013,\n",
       " 'VB SP CL': 0.000734585132564275,\n",
       " 'VB SP CS': 0.0007001514544753247,\n",
       " 'VB SP DR': 0.0006025893665566319,\n",
       " 'VB SP PG': 0.0004246820297637215,\n",
       " 'VB SP FA': 0.00033285888819318713,\n",
       " 'VB SP EO': 0.0002639915320152863,\n",
       " 'VB SP SV': 0.00020660206853370238,\n",
       " 'VB SP LS': 0.00014921260505211837,\n",
       " 'VB SP YT': 0.00011477892696316797,\n",
       " 'VB SP GR': 9.182314157053438e-05,\n",
       " 'VB SP NL': 4.017262443710879e-05,\n",
       " 'VB SP KR': 3.4433678088950394e-05,\n",
       " 'VB SP AG': 5.738946348158399e-06,\n",
       " 'VB SP MS': 0.0,\n",
       " 'VB SP RK': 0.0,\n",
       " 'VB SP NM': 0.0,\n",
       " 'VB LN MV': 0.0016360970845753168,\n",
       " 'VB LN LH': 0.001567688844105269,\n",
       " 'VB LN VB': 0.0010546270405799082,\n",
       " 'VB LN SP': 0.0008551030058756012,\n",
       " 'VB LN LN': 0.0008494023191697638,\n",
       " 'VB LN CL': 0.0007296878983471798,\n",
       " 'VB LN CS': 0.0006954837781121556,\n",
       " 'VB LN DR': 0.0005985721041129209,\n",
       " 'VB LN PG': 0.00042185081623196324,\n",
       " 'VB LN FA': 0.0003306398289385658,\n",
       " 'VB LN EO': 0.00026223158846851765,\n",
       " 'VB LN SV': 0.0002052247214101443,\n",
       " 'VB LN LS': 0.00014821785435177088,\n",
       " 'VB LN YT': 0.00011401373411674682,\n",
       " 'VB LN GR': 9.121098729339747e-05,\n",
       " 'VB LN NL': 3.990480694086139e-05,\n",
       " 'VB LN KR': 3.420412023502405e-05,\n",
       " 'VB LN AG': 5.700686705837342e-06,\n",
       " 'VB LN MS': 0.0,\n",
       " 'VB LN RK': 0.0,\n",
       " 'VB LN NM': 0.0,\n",
       " 'VB CL MV': 0.0014055062203063128,\n",
       " 'VB CL LH': 0.0013467394097011712,\n",
       " 'VB CL VB': 0.000905988330162606,\n",
       " 'VB CL SP': 0.000734585132564275,\n",
       " 'VB CL LN': 0.0007296878983471799,\n",
       " 'VB CL CL': 0.0006268459797881814,\n",
       " 'VB CL CS': 0.0005974625744856104,\n",
       " 'VB CL DR': 0.0005142095927949926,\n",
       " 'VB CL PG': 0.0003623953320650424,\n",
       " 'VB CL FA': 0.0002840395845915197,\n",
       " 'VB CL EO': 0.00022527277398637767,\n",
       " 'VB CL SV': 0.00017630043181542603,\n",
       " 'VB CL LS': 0.00012732808964447436,\n",
       " ...}"
      ]
     },
     "execution_count": 12,
     "metadata": {},
     "output_type": "execute_result"
    }
   ],
   "source": [
    "def joint(A, B, C, sep=''):\n",
    "    return ProbDist({a + sep + b + sep + c: A[a] * B[b] * C[c]\n",
    "                    for a in A\n",
    "                    for b in B\n",
    "                    for c in C})\n",
    "\n",
    "Winning_PD_for_3races = joint(IGP, RGP, TGP, ' ')\n",
    "Winning_PD_for_3races"
   ]
  },
  {
   "cell_type": "code",
   "execution_count": 13,
   "metadata": {},
   "outputs": [
    {
     "data": {
      "text/plain": [
       "0.017258914931011116"
      ]
     },
     "execution_count": 13,
     "metadata": {},
     "output_type": "execute_result"
    }
   ],
   "source": [
    "def Red_Bull_Racing_wins_all3(outcome): return 'MV MV MV' in outcome or 'MV MV SP' in outcome or 'MV SP MV' in outcome or 'MV SP SP' in outcome or 'SP SP MV' in outcome or 'SP MV SP' in outcome or 'SP MV MV' in outcome or 'SP SP SP' in outcome\n",
    "such_that(Red_Bull_Racing_wins_all3,Winning_PD_for_3races)\n",
    "p(Red_Bull_Racing_wins_all3,Winning_PD_for_3races)"
   ]
  },
  {
   "cell_type": "markdown",
   "metadata": {},
   "source": [
    "If Red Bull Racing wins the first race, what is the probability that Red Bull Racing wins the next one? If Red Bull Racing wins at least one of these two races, what is the probability Red Bull Racing wins both races? How about Mercedes, McLaren, and Ferrari?\n",
    "Here we have 2 events defined as follows:\n",
    "A : Red Bull Racing wins the first race\n",
    "B : Red Bull Racing wins the second race\n",
    "\n",
    "We are required to calculate the probabilty of Red Bull Racing winning the second race given they have already won the first race. Hence, according to Bayes Theorem we have 2 events A and B and are required to calculate P(A | B)\n",
    "\n",
    "which is\n",
    "P(A | B) = P(B | A) * P(A)/P(B)\n",
    "First calculating the individual probabilities for events A and B"
   ]
  },
  {
   "cell_type": "code",
   "execution_count": 14,
   "metadata": {},
   "outputs": [
    {
     "data": {
      "text/plain": [
       "0.2584269662921348"
      ]
     },
     "execution_count": 14,
     "metadata": {},
     "output_type": "execute_result"
    }
   ],
   "source": [
    "#probability for Red Bull Racing winning the first race is the winning probability for MV or SP from IGP\n",
    "probability_Red_Bull_Racing_wins_first = sum(IGP[o] for o in IGP if o=='MV' or o =='SP')\n",
    "probability_Red_Bull_Racing_wins_first"
   ]
  },
  {
   "cell_type": "code",
   "execution_count": 15,
   "metadata": {},
   "outputs": [
    {
     "data": {
      "text/plain": [
       "0.2584269662921348"
      ]
     },
     "execution_count": 15,
     "metadata": {},
     "output_type": "execute_result"
    }
   ],
   "source": [
    "#probability for Red Bull Racing winning the second race is the winning probability for MV or SP from IGP\n",
    "probability_Red_Bull_Racing_wins_second = sum(RGP[o] for o in RGP if o=='MV' or o =='SP')\n",
    "probability_Red_Bull_Racing_wins_second"
   ]
  },
  {
   "cell_type": "markdown",
   "metadata": {},
   "source": [
    "Calculating the conditional probability for winning the first race given second race is won by Red Bull Racing\n",
    "\n"
   ]
  },
  {
   "cell_type": "markdown",
   "metadata": {},
   "source": [
    "Hence, the probability of Red Bull Racing winning both the races is.\n"
   ]
  },
  {
   "cell_type": "code",
   "execution_count": 22,
   "metadata": {},
   "outputs": [
    {
     "data": {
      "text/plain": [
       "0.06670557874911279"
      ]
     },
     "execution_count": 22,
     "metadata": {},
     "output_type": "execute_result"
    }
   ],
   "source": [
    "\n",
    "0.258274231678487*0.258274231678487"
   ]
  },
  {
   "cell_type": "markdown",
   "metadata": {},
   "source": [
    "\n",
    "What is the probability for Red Bull Racing to win at least one race?\n"
   ]
  },
  {
   "cell_type": "code",
   "execution_count": 23,
   "metadata": {},
   "outputs": [
    {
     "data": {
      "text/plain": [
       "0.3249798104275998"
      ]
     },
     "execution_count": 23,
     "metadata": {},
     "output_type": "execute_result"
    }
   ],
   "source": [
    "0.258274231678487 + (0.258274231678487**2)\n"
   ]
  },
  {
   "cell_type": "markdown",
   "metadata": {},
   "source": [
    "\n",
    "What is the probability for Red Bull Racing to win all three races?\n",
    "\n"
   ]
  },
  {
   "cell_type": "code",
   "execution_count": 24,
   "metadata": {},
   "outputs": [
    {
     "data": {
      "text/plain": [
       "0.017228332100095913"
      ]
     },
     "execution_count": 24,
     "metadata": {},
     "output_type": "execute_result"
    }
   ],
   "source": [
    "0.258274231678487 ** 3\n"
   ]
  },
  {
   "cell_type": "code",
   "execution_count": null,
   "metadata": {},
   "outputs": [],
   "source": []
  }
 ],
 "metadata": {
  "kernelspec": {
   "display_name": "Python 3 (ipykernel)",
   "language": "python",
   "name": "python3"
  },
  "language_info": {
   "codemirror_mode": {
    "name": "ipython",
    "version": 3
   },
   "file_extension": ".py",
   "mimetype": "text/x-python",
   "name": "python",
   "nbconvert_exporter": "python",
   "pygments_lexer": "ipython3",
   "version": "3.9.13"
  }
 },
 "nbformat": 4,
 "nbformat_minor": 1
}
